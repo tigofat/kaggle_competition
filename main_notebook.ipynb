{
 "cells": [
  {
   "cell_type": "code",
<<<<<<< HEAD
   "execution_count": 11,
=======
   "execution_count": 1204,
>>>>>>> master
   "metadata": {
    "scrolled": false
   },
   "outputs": [],
   "source": [
    "import numpy as np\n",
    "import pandas as pd\n",
    "import matplotlib.pyplot as plt\n",
    "plt.rcParams[\"figure.figsize\"] = 8, 5\n",
    "\n",
    "from importlib import reload\n",
    "from collections import Counter\n",
    "\n",
    "import plotting\n",
    "import toolbox as tb\n",
    "import feature_creation\n",
<<<<<<< HEAD
    "#import ensembling\n",
=======
>>>>>>> master
    "\n",
    "# reload modules\n",
    "tb = reload(tb)\n",
    "plotting = reload(plotting)\n",
    "feature_creation = reload(feature_creation)\n",
<<<<<<< HEAD
    "#ensembling = reload(ensembling)\n",
=======
>>>>>>> master
    "\n",
    "from plotting import Plotter\n",
    "from feature_creation import YNormal, featurize, my_get_dummies\n",
    "\n",
    "# ignore warnings\n",
    "import warnings\n",
    "warnings.filterwarnings(action=\"ignore\")"
   ]
  },
  {
   "cell_type": "markdown",
   "metadata": {},
   "source": [
    "Load data."
   ]
  },
  {
   "cell_type": "code",
<<<<<<< HEAD
   "execution_count": 12,
=======
   "execution_count": 1190,
>>>>>>> master
   "metadata": {},
   "outputs": [
    {
     "data": {
      "text/plain": [
       "((2250, 24), (750, 24), (4398, 22))"
      ]
     },
<<<<<<< HEAD
     "execution_count": 12,
=======
     "execution_count": 1190,
>>>>>>> master
     "metadata": {},
     "output_type": "execute_result"
    }
   ],
   "source": [
    "train_data = pd.read_csv('dataset/train.csv')\n",
    "validation = pd.read_csv('dataset/validation.csv')\n",
    "test_data = pd.read_csv('dataset/test.csv')\n",
    "\n",
    "all_train = pd.read_csv('kaggleDataset/train.csv')\n",
    "\n",
    "train_data.shape, validation.shape, test_data.shape"
   ]
  },
  {
   "cell_type": "code",
<<<<<<< HEAD
   "execution_count": 13,
=======
   "execution_count": 1191,
>>>>>>> master
   "metadata": {},
   "outputs": [
    {
     "data": {
      "text/html": [
       "<div>\n",
       "<style scoped>\n",
       "    .dataframe tbody tr th:only-of-type {\n",
       "        vertical-align: middle;\n",
       "    }\n",
       "\n",
       "    .dataframe tbody tr th {\n",
       "        vertical-align: top;\n",
       "    }\n",
       "\n",
       "    .dataframe thead th {\n",
       "        text-align: right;\n",
       "    }\n",
       "</style>\n",
       "<table border=\"1\" class=\"dataframe\">\n",
       "  <thead>\n",
       "    <tr style=\"text-align: right;\">\n",
       "      <th></th>\n",
       "      <th>Unnamed: 0</th>\n",
       "      <th>id</th>\n",
       "      <th>belongs_to_collection</th>\n",
       "      <th>budget</th>\n",
       "      <th>genres</th>\n",
       "      <th>homepage</th>\n",
       "      <th>imdb_id</th>\n",
       "      <th>original_language</th>\n",
       "      <th>original_title</th>\n",
       "      <th>overview</th>\n",
       "      <th>...</th>\n",
       "      <th>release_date</th>\n",
       "      <th>runtime</th>\n",
       "      <th>spoken_languages</th>\n",
       "      <th>status</th>\n",
       "      <th>tagline</th>\n",
       "      <th>title</th>\n",
       "      <th>Keywords</th>\n",
       "      <th>cast</th>\n",
       "      <th>crew</th>\n",
       "      <th>revenue</th>\n",
       "    </tr>\n",
       "  </thead>\n",
       "  <tbody>\n",
       "    <tr>\n",
       "      <th>0</th>\n",
       "      <td>750</td>\n",
       "      <td>751</td>\n",
       "      <td>NaN</td>\n",
       "      <td>30000000</td>\n",
       "      <td>[{'id': 35, 'name': 'Comedy'}, {'id': 18, 'nam...</td>\n",
       "      <td>NaN</td>\n",
       "      <td>tt0332047</td>\n",
       "      <td>en</td>\n",
       "      <td>Fever Pitch</td>\n",
       "      <td>When relaxed and charming Ben Wrightman meets ...</td>\n",
       "      <td>...</td>\n",
       "      <td>4/6/05</td>\n",
       "      <td>103.0</td>\n",
       "      <td>[{'iso_639_1': 'en', 'name': 'English'}, {'iso...</td>\n",
       "      <td>Released</td>\n",
       "      <td>A Comedy About The Game of Love.</td>\n",
       "      <td>Fever Pitch</td>\n",
       "      <td>[{'id': 1480, 'name': 'baseball'}, {'id': 3419...</td>\n",
       "      <td>[{'cast_id': 1, 'character': 'Lindsey Meeks', ...</td>\n",
       "      <td>[{'credit_id': '52fe443f9251416c7502df99', 'de...</td>\n",
       "      <td>50451307</td>\n",
       "    </tr>\n",
       "    <tr>\n",
       "      <th>1</th>\n",
       "      <td>751</td>\n",
       "      <td>752</td>\n",
       "      <td>[{'id': 5039, 'name': 'Rambo Collection', 'pos...</td>\n",
       "      <td>50000000</td>\n",
       "      <td>[{'id': 28, 'name': 'Action'}, {'id': 53, 'nam...</td>\n",
       "      <td>http://www.rambofilm.com/</td>\n",
       "      <td>tt0462499</td>\n",
       "      <td>en</td>\n",
       "      <td>Rambo</td>\n",
       "      <td>When governments fail to act on behalf of capt...</td>\n",
       "      <td>...</td>\n",
       "      <td>1/24/08</td>\n",
       "      <td>92.0</td>\n",
       "      <td>[{'iso_639_1': 'en', 'name': 'English'}, {'iso...</td>\n",
       "      <td>Released</td>\n",
       "      <td>Heroes never die... They just reload.</td>\n",
       "      <td>Rambo</td>\n",
       "      <td>[{'id': 440, 'name': 'missionary'}, {'id': 126...</td>\n",
       "      <td>[{'cast_id': 12, 'character': 'John Rambo', 'c...</td>\n",
       "      <td>[{'credit_id': '55c8e0ff92514177c9000085', 'de...</td>\n",
       "      <td>113244290</td>\n",
       "    </tr>\n",
       "    <tr>\n",
       "      <th>2</th>\n",
       "      <td>752</td>\n",
       "      <td>753</td>\n",
       "      <td>NaN</td>\n",
       "      <td>0</td>\n",
       "      <td>[{'id': 35, 'name': 'Comedy'}, {'id': 99, 'nam...</td>\n",
       "      <td>NaN</td>\n",
       "      <td>tt0175844</td>\n",
       "      <td>en</td>\n",
       "      <td>Lenny Bruce: Swear to Tell the Truth</td>\n",
       "      <td>In 1948, Lenny Bruce was just another comic wh...</td>\n",
       "      <td>...</td>\n",
       "      <td>10/21/98</td>\n",
       "      <td>100.0</td>\n",
       "      <td>[{'iso_639_1': 'en', 'name': 'English'}]</td>\n",
       "      <td>Released</td>\n",
       "      <td>A documentary about the comic who invented con...</td>\n",
       "      <td>Lenny Bruce: Swear to Tell the Truth</td>\n",
       "      <td>[{'id': 3485, 'name': 'comedian'}, {'id': 5565...</td>\n",
       "      <td>[{'cast_id': 1, 'character': 'Himself / Narrat...</td>\n",
       "      <td>[{'credit_id': '52fe4a19c3a36847f81b92ff', 'de...</td>\n",
       "      <td>21350</td>\n",
       "    </tr>\n",
       "    <tr>\n",
       "      <th>3</th>\n",
       "      <td>753</td>\n",
       "      <td>754</td>\n",
       "      <td>[{'id': 59586, 'name': 'The Blue Lagoon collec...</td>\n",
       "      <td>4500000</td>\n",
       "      <td>[{'id': 10749, 'name': 'Romance'}, {'id': 12, ...</td>\n",
       "      <td>NaN</td>\n",
       "      <td>tt0080453</td>\n",
       "      <td>en</td>\n",
       "      <td>The Blue Lagoon</td>\n",
       "      <td>Two small children and a ship's cook survive a...</td>\n",
       "      <td>...</td>\n",
       "      <td>7/5/80</td>\n",
       "      <td>104.0</td>\n",
       "      <td>[{'iso_639_1': 'en', 'name': 'English'}]</td>\n",
       "      <td>Released</td>\n",
       "      <td>A sensuous story of natural love.</td>\n",
       "      <td>The Blue Lagoon</td>\n",
       "      <td>[{'id': 566, 'name': 'sexual identity'}, {'id'...</td>\n",
       "      <td>[{'cast_id': 7, 'character': 'Emmeline', 'cred...</td>\n",
       "      <td>[{'credit_id': '52fe4418c3a36847f8081fa3', 'de...</td>\n",
       "      <td>58853106</td>\n",
       "    </tr>\n",
       "    <tr>\n",
       "      <th>4</th>\n",
       "      <td>754</td>\n",
       "      <td>755</td>\n",
       "      <td>NaN</td>\n",
       "      <td>6000000</td>\n",
       "      <td>[{'id': 18, 'name': 'Drama'}, {'id': 10749, 'n...</td>\n",
       "      <td>http://www.paramountvantage.com/virginsuicides...</td>\n",
       "      <td>tt0159097</td>\n",
       "      <td>en</td>\n",
       "      <td>The Virgin Suicides</td>\n",
       "      <td>A group of male friends become obsessed with f...</td>\n",
       "      <td>...</td>\n",
       "      <td>4/21/99</td>\n",
       "      <td>97.0</td>\n",
       "      <td>[{'iso_639_1': 'en', 'name': 'English'}]</td>\n",
       "      <td>Released</td>\n",
       "      <td>Beautiful, mysterious, haunting, invariably fa...</td>\n",
       "      <td>The Virgin Suicides</td>\n",
       "      <td>[{'id': 933, 'name': 'michigan'}, {'id': 1228,...</td>\n",
       "      <td>[{'cast_id': 17, 'character': 'Mr. Lisbon', 'c...</td>\n",
       "      <td>[{'credit_id': '52fe42f8c3a36847f80308d5', 'de...</td>\n",
       "      <td>10409377</td>\n",
       "    </tr>\n",
       "  </tbody>\n",
       "</table>\n",
       "<p>5 rows × 24 columns</p>\n",
       "</div>"
      ],
      "text/plain": [
       "   Unnamed: 0   id                              belongs_to_collection  \\\n",
       "0         750  751                                                NaN   \n",
       "1         751  752  [{'id': 5039, 'name': 'Rambo Collection', 'pos...   \n",
       "2         752  753                                                NaN   \n",
       "3         753  754  [{'id': 59586, 'name': 'The Blue Lagoon collec...   \n",
       "4         754  755                                                NaN   \n",
       "\n",
       "     budget                                             genres  \\\n",
       "0  30000000  [{'id': 35, 'name': 'Comedy'}, {'id': 18, 'nam...   \n",
       "1  50000000  [{'id': 28, 'name': 'Action'}, {'id': 53, 'nam...   \n",
       "2         0  [{'id': 35, 'name': 'Comedy'}, {'id': 99, 'nam...   \n",
       "3   4500000  [{'id': 10749, 'name': 'Romance'}, {'id': 12, ...   \n",
       "4   6000000  [{'id': 18, 'name': 'Drama'}, {'id': 10749, 'n...   \n",
       "\n",
       "                                            homepage    imdb_id  \\\n",
       "0                                                NaN  tt0332047   \n",
       "1                          http://www.rambofilm.com/  tt0462499   \n",
       "2                                                NaN  tt0175844   \n",
       "3                                                NaN  tt0080453   \n",
       "4  http://www.paramountvantage.com/virginsuicides...  tt0159097   \n",
       "\n",
       "  original_language                        original_title  \\\n",
       "0                en                           Fever Pitch   \n",
       "1                en                                 Rambo   \n",
       "2                en  Lenny Bruce: Swear to Tell the Truth   \n",
       "3                en                       The Blue Lagoon   \n",
       "4                en                   The Virgin Suicides   \n",
       "\n",
       "                                            overview  ...  release_date  \\\n",
       "0  When relaxed and charming Ben Wrightman meets ...  ...        4/6/05   \n",
       "1  When governments fail to act on behalf of capt...  ...       1/24/08   \n",
       "2  In 1948, Lenny Bruce was just another comic wh...  ...      10/21/98   \n",
       "3  Two small children and a ship's cook survive a...  ...        7/5/80   \n",
       "4  A group of male friends become obsessed with f...  ...       4/21/99   \n",
       "\n",
       "  runtime                                   spoken_languages    status  \\\n",
       "0   103.0  [{'iso_639_1': 'en', 'name': 'English'}, {'iso...  Released   \n",
       "1    92.0  [{'iso_639_1': 'en', 'name': 'English'}, {'iso...  Released   \n",
       "2   100.0           [{'iso_639_1': 'en', 'name': 'English'}]  Released   \n",
       "3   104.0           [{'iso_639_1': 'en', 'name': 'English'}]  Released   \n",
       "4    97.0           [{'iso_639_1': 'en', 'name': 'English'}]  Released   \n",
       "\n",
       "                                             tagline  \\\n",
       "0                   A Comedy About The Game of Love.   \n",
       "1              Heroes never die... They just reload.   \n",
       "2  A documentary about the comic who invented con...   \n",
       "3                  A sensuous story of natural love.   \n",
       "4  Beautiful, mysterious, haunting, invariably fa...   \n",
       "\n",
       "                                  title  \\\n",
       "0                           Fever Pitch   \n",
       "1                                 Rambo   \n",
       "2  Lenny Bruce: Swear to Tell the Truth   \n",
       "3                       The Blue Lagoon   \n",
       "4                   The Virgin Suicides   \n",
       "\n",
       "                                            Keywords  \\\n",
       "0  [{'id': 1480, 'name': 'baseball'}, {'id': 3419...   \n",
       "1  [{'id': 440, 'name': 'missionary'}, {'id': 126...   \n",
       "2  [{'id': 3485, 'name': 'comedian'}, {'id': 5565...   \n",
       "3  [{'id': 566, 'name': 'sexual identity'}, {'id'...   \n",
       "4  [{'id': 933, 'name': 'michigan'}, {'id': 1228,...   \n",
       "\n",
       "                                                cast  \\\n",
       "0  [{'cast_id': 1, 'character': 'Lindsey Meeks', ...   \n",
       "1  [{'cast_id': 12, 'character': 'John Rambo', 'c...   \n",
       "2  [{'cast_id': 1, 'character': 'Himself / Narrat...   \n",
       "3  [{'cast_id': 7, 'character': 'Emmeline', 'cred...   \n",
       "4  [{'cast_id': 17, 'character': 'Mr. Lisbon', 'c...   \n",
       "\n",
       "                                                crew    revenue  \n",
       "0  [{'credit_id': '52fe443f9251416c7502df99', 'de...   50451307  \n",
       "1  [{'credit_id': '55c8e0ff92514177c9000085', 'de...  113244290  \n",
       "2  [{'credit_id': '52fe4a19c3a36847f81b92ff', 'de...      21350  \n",
       "3  [{'credit_id': '52fe4418c3a36847f8081fa3', 'de...   58853106  \n",
       "4  [{'credit_id': '52fe42f8c3a36847f80308d5', 'de...   10409377  \n",
       "\n",
       "[5 rows x 24 columns]"
      ]
     },
<<<<<<< HEAD
     "execution_count": 13,
=======
     "execution_count": 1191,
>>>>>>> master
     "metadata": {},
     "output_type": "execute_result"
    }
   ],
   "source": [
    "train_data.head()"
   ]
  },
  {
   "cell_type": "code",
<<<<<<< HEAD
   "execution_count": 14,
=======
   "execution_count": 1192,
>>>>>>> master
   "metadata": {
    "scrolled": true
   },
   "outputs": [
    {
     "data": {
      "text/plain": [
       "Index(['Unnamed: 0', 'id', 'belongs_to_collection', 'budget', 'genres',\n",
       "       'homepage', 'imdb_id', 'original_language', 'original_title',\n",
       "       'overview', 'popularity', 'poster_path', 'production_companies',\n",
       "       'production_countries', 'release_date', 'runtime', 'spoken_languages',\n",
       "       'status', 'tagline', 'title', 'Keywords', 'cast', 'crew', 'revenue'],\n",
       "      dtype='object')"
      ]
     },
<<<<<<< HEAD
     "execution_count": 14,
=======
     "execution_count": 1192,
>>>>>>> master
     "metadata": {},
     "output_type": "execute_result"
    }
   ],
   "source": [
    "train_data.columns"
   ]
  },
  {
   "cell_type": "markdown",
   "metadata": {},
   "source": [
    "Make a copy of *train_data* and *test_data* for not modifing them."
   ]
  },
  {
   "cell_type": "code",
<<<<<<< HEAD
   "execution_count": 15,
=======
   "execution_count": 1193,
>>>>>>> master
   "metadata": {
    "scrolled": true
   },
   "outputs": [
    {
     "data": {
      "text/plain": [
       "False"
      ]
     },
<<<<<<< HEAD
     "execution_count": 15,
=======
     "execution_count": 1193,
>>>>>>> master
     "metadata": {},
     "output_type": "execute_result"
    }
   ],
   "source": [
    "train_df = train_data.copy()\n",
    "test_df = test_data.copy()\n",
    "all_train_df = all_train.copy()\n",
    "\n",
    "# checking the ids\n",
    "np.any((id(train_df) == id(train_data)) \n",
    "       and (id(test_df) == id(test_data)) \n",
    "       and (id(all_train_df) == id(all_train)))"
   ]
  },
  {
   "cell_type": "markdown",
   "metadata": {},
   "source": [
    "**Featurize** function for building features."
   ]
  },
  {
   "cell_type": "code",
<<<<<<< HEAD
   "execution_count": 16,
=======
   "execution_count": 1194,
   "metadata": {},
   "outputs": [],
   "source": [
    "# load json data ones for faster featurization\n",
    "json_feat = ['belongs_to_collection', 'genres', \n",
    "                'spoken_languages', 'Keywords', \n",
    "                'cast', 'crew']\n",
    "\n",
    "train_df[json_feat] = train_df[json_feat].fillna('')\n",
    "all_train[json_feat] = all_train[json_feat].fillna('')\n",
    "\n",
    "for name in json_feat:\n",
    "    train_df[name] = tb.json_to_dict(train_df[name])\n",
    "    all_train[name] = tb.json_to_dict(all_train[name])"
   ]
  },
  {
   "cell_type": "code",
   "execution_count": 1205,
>>>>>>> master
   "metadata": {},
   "outputs": [],
   "source": [
    "#valid_y: targets of validation\n",
    "valid_y = validation[\"revenue\"]\n",
    "\n",
    "#train_feat: featurize's train data without target\n",
    "#valid_feat: featurize's validation without target\n",
    "#train_y: targets of train data?\n",
    "train_feat, valid_feat, train_y = featurize(train_df, validation)\n",
    "\n",
    "#all_train_feat: featurized train_data + validation\n",
    "#test_feat: featurized test_data\n",
    "#target: train_y + valid_y\n",
    "all_train_feat, test_feat, target = featurize(all_train, test_df)"
   ]
  },
  {
   "cell_type": "code",
<<<<<<< HEAD
   "execution_count": 17,
   "metadata": {
    "scrolled": false
   },
=======
   "execution_count": 1206,
   "metadata": {},
>>>>>>> master
   "outputs": [
    {
     "data": {
      "text/plain": [
       "Index(['is_from_coll', 'not_from_coll', 'budget', 'popularity', 'runtime',\n",
       "       'is_tagline', 'no_tagline', 'is_en', 'not_en', 'is_homepage',\n",
       "       'no_homepage', 'is_date', 'not_date', 'Warner Bros.',\n",
       "       'Universal Pictures', 'Paramount Pictures'],\n",
       "      dtype='object')"
      ]
     },
<<<<<<< HEAD
     "execution_count": 17,
=======
     "execution_count": 1206,
>>>>>>> master
     "metadata": {},
     "output_type": "execute_result"
    }
   ],
   "source": [
    "train_feat.columns"
   ]
  },
  {
   "cell_type": "code",
<<<<<<< HEAD
   "execution_count": 18,
=======
   "execution_count": 1207,
>>>>>>> master
   "metadata": {
    "scrolled": false
   },
   "outputs": [
    {
     "data": {
      "text/html": [
       "<div>\n",
       "<style scoped>\n",
       "    .dataframe tbody tr th:only-of-type {\n",
       "        vertical-align: middle;\n",
       "    }\n",
       "\n",
       "    .dataframe tbody tr th {\n",
       "        vertical-align: top;\n",
       "    }\n",
       "\n",
       "    .dataframe thead th {\n",
       "        text-align: right;\n",
       "    }\n",
       "</style>\n",
       "<table border=\"1\" class=\"dataframe\">\n",
       "  <thead>\n",
       "    <tr style=\"text-align: right;\">\n",
       "      <th></th>\n",
       "      <th>is_from_coll</th>\n",
       "      <th>not_from_coll</th>\n",
       "      <th>budget</th>\n",
       "      <th>popularity</th>\n",
       "      <th>runtime</th>\n",
       "      <th>is_tagline</th>\n",
       "      <th>no_tagline</th>\n",
       "      <th>is_en</th>\n",
       "      <th>not_en</th>\n",
       "      <th>is_homepage</th>\n",
       "      <th>no_homepage</th>\n",
       "      <th>is_date</th>\n",
       "      <th>not_date</th>\n",
       "      <th>Warner Bros.</th>\n",
       "      <th>Universal Pictures</th>\n",
       "      <th>Paramount Pictures</th>\n",
       "    </tr>\n",
       "  </thead>\n",
       "  <tbody>\n",
       "    <tr>\n",
       "      <th>0</th>\n",
       "      <td>1</td>\n",
       "      <td>0</td>\n",
       "      <td>0.183749</td>\n",
       "      <td>-0.154157</td>\n",
       "      <td>-4.674662</td>\n",
       "      <td>1</td>\n",
       "      <td>0</td>\n",
       "      <td>1</td>\n",
       "      <td>0</td>\n",
       "      <td>0</td>\n",
       "      <td>1</td>\n",
       "      <td>1</td>\n",
       "      <td>0</td>\n",
       "      <td>0</td>\n",
       "      <td>0</td>\n",
       "      <td>0</td>\n",
       "    </tr>\n",
       "    <tr>\n",
       "      <th>1</th>\n",
       "      <td>1</td>\n",
       "      <td>0</td>\n",
       "      <td>0.554961</td>\n",
       "      <td>0.113314</td>\n",
       "      <td>-4.679725</td>\n",
       "      <td>1</td>\n",
       "      <td>0</td>\n",
       "      <td>1</td>\n",
       "      <td>0</td>\n",
       "      <td>1</td>\n",
       "      <td>0</td>\n",
       "      <td>1</td>\n",
       "      <td>0</td>\n",
       "      <td>0</td>\n",
       "      <td>0</td>\n",
       "      <td>0</td>\n",
       "    </tr>\n",
       "    <tr>\n",
       "      <th>2</th>\n",
       "      <td>1</td>\n",
       "      <td>0</td>\n",
       "      <td>-0.937836</td>\n",
       "      <td>-1.107318</td>\n",
       "      <td>-4.675988</td>\n",
       "      <td>1</td>\n",
       "      <td>0</td>\n",
       "      <td>1</td>\n",
       "      <td>0</td>\n",
       "      <td>0</td>\n",
       "      <td>1</td>\n",
       "      <td>1</td>\n",
       "      <td>0</td>\n",
       "      <td>0</td>\n",
       "      <td>0</td>\n",
       "      <td>0</td>\n",
       "    </tr>\n",
       "    <tr>\n",
       "      <th>3</th>\n",
       "      <td>1</td>\n",
       "      <td>0</td>\n",
       "      <td>-0.667460</td>\n",
       "      <td>0.229029</td>\n",
       "      <td>-4.674228</td>\n",
       "      <td>1</td>\n",
       "      <td>0</td>\n",
       "      <td>1</td>\n",
       "      <td>0</td>\n",
       "      <td>0</td>\n",
       "      <td>1</td>\n",
       "      <td>1</td>\n",
       "      <td>0</td>\n",
       "      <td>0</td>\n",
       "      <td>0</td>\n",
       "      <td>0</td>\n",
       "    </tr>\n",
       "    <tr>\n",
       "      <th>4</th>\n",
       "      <td>1</td>\n",
       "      <td>0</td>\n",
       "      <td>-0.591454</td>\n",
       "      <td>0.155904</td>\n",
       "      <td>-4.677353</td>\n",
       "      <td>1</td>\n",
       "      <td>0</td>\n",
       "      <td>1</td>\n",
       "      <td>0</td>\n",
       "      <td>1</td>\n",
       "      <td>0</td>\n",
       "      <td>1</td>\n",
       "      <td>0</td>\n",
       "      <td>0</td>\n",
       "      <td>0</td>\n",
       "      <td>0</td>\n",
       "    </tr>\n",
       "    <tr>\n",
       "      <th>5</th>\n",
       "      <td>1</td>\n",
       "      <td>0</td>\n",
       "      <td>-0.937836</td>\n",
       "      <td>-0.704832</td>\n",
       "      <td>-4.677818</td>\n",
       "      <td>1</td>\n",
       "      <td>0</td>\n",
       "      <td>1</td>\n",
       "      <td>0</td>\n",
       "      <td>0</td>\n",
       "      <td>1</td>\n",
       "      <td>1</td>\n",
       "      <td>0</td>\n",
       "      <td>0</td>\n",
       "      <td>0</td>\n",
       "      <td>0</td>\n",
       "    </tr>\n",
       "    <tr>\n",
       "      <th>6</th>\n",
       "      <td>1</td>\n",
       "      <td>0</td>\n",
       "      <td>-0.937836</td>\n",
       "      <td>-0.208159</td>\n",
       "      <td>-4.674662</td>\n",
       "      <td>1</td>\n",
       "      <td>0</td>\n",
       "      <td>0</td>\n",
       "      <td>1</td>\n",
       "      <td>0</td>\n",
       "      <td>1</td>\n",
       "      <td>1</td>\n",
       "      <td>0</td>\n",
       "      <td>0</td>\n",
       "      <td>0</td>\n",
       "      <td>0</td>\n",
       "    </tr>\n",
       "    <tr>\n",
       "      <th>7</th>\n",
       "      <td>1</td>\n",
       "      <td>0</td>\n",
       "      <td>0.936922</td>\n",
       "      <td>-0.109269</td>\n",
       "      <td>-4.681716</td>\n",
       "      <td>1</td>\n",
       "      <td>0</td>\n",
       "      <td>1</td>\n",
       "      <td>0</td>\n",
       "      <td>0</td>\n",
       "      <td>1</td>\n",
       "      <td>1</td>\n",
       "      <td>0</td>\n",
       "      <td>0</td>\n",
       "      <td>0</td>\n",
       "      <td>0</td>\n",
       "    </tr>\n",
       "    <tr>\n",
       "      <th>8</th>\n",
       "      <td>1</td>\n",
       "      <td>0</td>\n",
       "      <td>-0.937836</td>\n",
       "      <td>-0.215442</td>\n",
       "      <td>-4.676438</td>\n",
       "      <td>0</td>\n",
       "      <td>1</td>\n",
       "      <td>0</td>\n",
       "      <td>1</td>\n",
       "      <td>0</td>\n",
       "      <td>1</td>\n",
       "      <td>0</td>\n",
       "      <td>1</td>\n",
       "      <td>0</td>\n",
       "      <td>0</td>\n",
       "      <td>0</td>\n",
       "    </tr>\n",
       "    <tr>\n",
       "      <th>9</th>\n",
       "      <td>1</td>\n",
       "      <td>0</td>\n",
       "      <td>0.012578</td>\n",
       "      <td>0.090105</td>\n",
       "      <td>-4.666332</td>\n",
       "      <td>1</td>\n",
       "      <td>0</td>\n",
       "      <td>1</td>\n",
       "      <td>0</td>\n",
       "      <td>1</td>\n",
       "      <td>0</td>\n",
       "      <td>1</td>\n",
       "      <td>0</td>\n",
       "      <td>0</td>\n",
       "      <td>0</td>\n",
       "      <td>0</td>\n",
       "    </tr>\n",
       "  </tbody>\n",
       "</table>\n",
       "</div>"
      ],
      "text/plain": [
       "   is_from_coll  not_from_coll    budget  popularity   runtime  is_tagline  \\\n",
       "0             1              0  0.183749   -0.154157 -4.674662           1   \n",
       "1             1              0  0.554961    0.113314 -4.679725           1   \n",
       "2             1              0 -0.937836   -1.107318 -4.675988           1   \n",
       "3             1              0 -0.667460    0.229029 -4.674228           1   \n",
       "4             1              0 -0.591454    0.155904 -4.677353           1   \n",
       "5             1              0 -0.937836   -0.704832 -4.677818           1   \n",
       "6             1              0 -0.937836   -0.208159 -4.674662           1   \n",
       "7             1              0  0.936922   -0.109269 -4.681716           1   \n",
       "8             1              0 -0.937836   -0.215442 -4.676438           0   \n",
       "9             1              0  0.012578    0.090105 -4.666332           1   \n",
       "\n",
       "   no_tagline  is_en  not_en  is_homepage  no_homepage  is_date  not_date  \\\n",
       "0           0      1       0            0            1        1         0   \n",
       "1           0      1       0            1            0        1         0   \n",
       "2           0      1       0            0            1        1         0   \n",
       "3           0      1       0            0            1        1         0   \n",
       "4           0      1       0            1            0        1         0   \n",
       "5           0      1       0            0            1        1         0   \n",
       "6           0      0       1            0            1        1         0   \n",
       "7           0      1       0            0            1        1         0   \n",
       "8           1      0       1            0            1        0         1   \n",
       "9           0      1       0            1            0        1         0   \n",
       "\n",
       "   Warner Bros.  Universal Pictures  Paramount Pictures  \n",
       "0             0                   0                   0  \n",
       "1             0                   0                   0  \n",
       "2             0                   0                   0  \n",
       "3             0                   0                   0  \n",
       "4             0                   0                   0  \n",
       "5             0                   0                   0  \n",
       "6             0                   0                   0  \n",
       "7             0                   0                   0  \n",
       "8             0                   0                   0  \n",
       "9             0                   0                   0  "
      ]
     },
<<<<<<< HEAD
     "execution_count": 18,
=======
     "execution_count": 1207,
>>>>>>> master
     "metadata": {},
     "output_type": "execute_result"
    }
   ],
   "source": [
    "train_feat.head(10)"
   ]
  },
  {
   "cell_type": "code",
<<<<<<< HEAD
   "execution_count": 19,
=======
   "execution_count": 1208,
>>>>>>> master
   "metadata": {},
   "outputs": [
    {
     "data": {
      "text/plain": [
       "(array([], dtype=int64), array([], dtype=int64))"
      ]
     },
     "execution_count": 1208,
     "metadata": {},
     "output_type": "execute_result"
    }
   ],
   "source": [
    "np.where(train_feat.fillna('NULL') == 'NULL')"
   ]
  },
  {
   "cell_type": "code",
   "execution_count": 1209,
   "metadata": {},
   "outputs": [
    {
     "data": {
      "text/plain": [
       "((2250, 16), (2250,))"
      ]
     },
     "execution_count": 1209,
     "metadata": {},
     "output_type": "execute_result"
    }
   ],
   "source": [
    "X_train, y_train = train_feat.values, train_y.values.ravel()\n",
    "X_valid, y_valid = valid_feat.values, valid_y.values.ravel()\n",
    "\n",
    "X_train.shape, y_train.shape"
   ]
  },
  {
   "cell_type": "markdown",
   "metadata": {},
   "source": [
    "# Train models and measure validation."
   ]
  },
  {
   "cell_type": "markdown",
   "metadata": {},
   "source": [
    "Choose the best model with root mean squared log error function and predict *test* data."
   ]
  },
  {
   "cell_type": "markdown",
   "metadata": {},
   "source": [
    "## xgboost"
   ]
  },
  {
   "cell_type": "code",
<<<<<<< HEAD
   "execution_count": 20,
   "metadata": {},
   "outputs": [
    {
     "ename": "ModuleNotFoundError",
     "evalue": "No module named 'xgboost'",
     "output_type": "error",
     "traceback": [
      "\u001b[1;31m---------------------------------------------------------------------------\u001b[0m",
      "\u001b[1;31mModuleNotFoundError\u001b[0m                       Traceback (most recent call last)",
      "\u001b[1;32m<ipython-input-20-423f88eb5ab6>\u001b[0m in \u001b[0;36m<module>\u001b[1;34m\u001b[0m\n\u001b[1;32m----> 1\u001b[1;33m \u001b[1;32mimport\u001b[0m \u001b[0mxgboost\u001b[0m \u001b[1;32mas\u001b[0m \u001b[0mxgb\u001b[0m\u001b[1;33m\u001b[0m\u001b[1;33m\u001b[0m\u001b[0m\n\u001b[0m\u001b[0;32m      2\u001b[0m \u001b[1;33m\u001b[0m\u001b[0m\n\u001b[0;32m      3\u001b[0m params = {\n\u001b[0;32m      4\u001b[0m     \u001b[1;34m'objective'\u001b[0m\u001b[1;33m:\u001b[0m \u001b[1;34m'reg:linear'\u001b[0m\u001b[1;33m,\u001b[0m\u001b[1;33m\u001b[0m\u001b[1;33m\u001b[0m\u001b[0m\n\u001b[0;32m      5\u001b[0m     \u001b[1;34m'eta'\u001b[0m\u001b[1;33m:\u001b[0m \u001b[1;36m0.01\u001b[0m\u001b[1;33m,\u001b[0m\u001b[1;33m\u001b[0m\u001b[1;33m\u001b[0m\u001b[0m\n",
      "\u001b[1;31mModuleNotFoundError\u001b[0m: No module named 'xgboost'"
     ]
=======
   "execution_count": 1210,
   "metadata": {},
   "outputs": [
    {
     "data": {
      "text/plain": [
       "(<xgboost.core.Booster at 0x7f54fc7ddeb8>, 152379584.0)"
      ]
     },
     "execution_count": 1210,
     "metadata": {},
     "output_type": "execute_result"
>>>>>>> master
    }
   ],
   "source": [
    "import xgboost as xgb\n",
    "\n",
    "params = {\n",
    "    'objective': 'reg:linear', \n",
    "    'eta': 0.01, \n",
    "    'max_depth': 6, \n",
    "    'subsample': 0.6, \n",
    "    'colsample_bytree': 0.7,  \n",
    "    'eval_metric': 'rmse', \n",
    "    'seed': 127, \n",
    "    'silent': True,\n",
    "}\n",
    "\n",
    "record = dict()\n",
    "\n",
    "xgboost = xgb.train(\n",
    "        params, \n",
    "        xgb.DMatrix(X_train, y_train), \n",
    "        100000,\n",
    "        [(xgb.DMatrix(X_train, y_train), 'train'), (xgb.DMatrix(X_valid, y_valid), 'valid')], \n",
    "        verbose_eval=False,\n",
    "        early_stopping_rounds=500,\n",
    "        callbacks = [xgb.callback.record_evaluation(record)])\n",
    "\n",
    "best_score_index = np.argmin(np.array(record['valid']['rmse']))\n",
    "xgboost, record['valid']['rmse'][best_score_index]"
   ]
  },
  {
   "cell_type": "code",
   "execution_count": 1211,
   "metadata": {},
   "outputs": [
    {
     "data": {
      "text/plain": [
       "(2.265775445891605, 2.265775445891605)"
      ]
     },
     "execution_count": 1211,
     "metadata": {},
     "output_type": "execute_result"
    }
   ],
   "source": [
    "xgboost_pred = xgboost.predict(xgb.DMatrix(X_valid))\n",
    "tb.root_mean_squared_log_error(np.exp(xgboost_pred), y_valid)"
   ]
  },
  {
   "cell_type": "markdown",
   "metadata": {},
   "source": [
    "## CatBoostRegressor"
   ]
  },
  {
   "cell_type": "code",
   "execution_count": 1212,
   "metadata": {},
   "outputs": [
    {
     "data": {
      "text/plain": [
       "<catboost.core.CatBoostRegressor at 0x7f54fc72add8>"
      ]
     },
     "execution_count": 1212,
     "metadata": {},
     "output_type": "execute_result"
    }
   ],
   "source": [
    "from catboost import CatBoostRegressor\n",
    "\n",
    "cat = CatBoostRegressor(iterations=100000,\n",
    "                        learning_rate=0.004,\n",
    "                        depth=5,\n",
    "                        eval_metric='RMSE',\n",
    "                        bagging_temperature = 0.2,\n",
    "                        metric_period = None,\n",
    "                        early_stopping_rounds=200,\n",
    "                        )                                 \n",
    "\n",
    "cat.fit(X_train, y_train, \n",
    "        eval_set=(X_valid, y_valid), \n",
    "        use_best_model=True, \n",
    "        verbose=False)\n",
    "\n",
    "cat"
   ]
  },
  {
   "cell_type": "code",
   "execution_count": 1213,
   "metadata": {},
   "outputs": [
    {
     "data": {
      "text/plain": [
       "(2.291785457948795, 2.291785457948795)"
      ]
     },
     "execution_count": 1213,
     "metadata": {},
     "output_type": "execute_result"
    }
   ],
   "source": [
    "cat_pred = cat.predict(X_valid)\n",
    "tb.root_mean_squared_log_error(np.exp(cat_pred), y_valid)"
   ]
  },
  {
   "cell_type": "markdown",
   "metadata": {},
   "source": [
    "## RidgeCV"
   ]
  },
  {
   "cell_type": "code",
   "execution_count": 1214,
   "metadata": {},
   "outputs": [
    {
     "data": {
      "text/plain": [
       "RidgeCV(alphas=array([ 0.1,  1. , 10. ]), cv=None, fit_intercept=True,\n",
       "    gcv_mode=None, normalize=False, scoring=None, store_cv_values=False)"
      ]
     },
     "execution_count": 1214,
     "metadata": {},
     "output_type": "execute_result"
    }
   ],
   "source": [
    "from sklearn.linear_model import RidgeCV\n",
    "\n",
    "ridge_reg = RidgeCV()\n",
    "ridge_reg.fit(X_train, y_train)"
   ]
  },
  {
   "cell_type": "code",
   "execution_count": 1215,
   "metadata": {},
   "outputs": [
    {
     "data": {
      "text/plain": [
       "(2.4244141834934756, 2.424414183493476)"
      ]
     },
     "execution_count": 1215,
     "metadata": {},
     "output_type": "execute_result"
    }
   ],
   "source": [
    "ridge_reg_pred = ridge_reg.predict(X_valid)\n",
    "tb.root_mean_squared_log_error(np.exp(ridge_reg_pred), y_valid)"
   ]
  },
  {
   "cell_type": "markdown",
   "metadata": {},
   "source": [
    "## RandomForestRegressor"
   ]
  },
  {
   "cell_type": "code",
   "execution_count": 1216,
   "metadata": {
    "scrolled": true
   },
   "outputs": [
    {
     "data": {
      "text/plain": [
       "RandomForestRegressor(bootstrap=True, criterion='mse', max_depth=None,\n",
       "           max_features='auto', max_leaf_nodes=None,\n",
       "           min_impurity_decrease=0.0, min_impurity_split=None,\n",
       "           min_samples_leaf=1, min_samples_split=2,\n",
       "           min_weight_fraction_leaf=0.0, n_estimators=20, n_jobs=None,\n",
       "           oob_score=False, random_state=None, verbose=0, warm_start=False)"
      ]
     },
     "execution_count": 1216,
     "metadata": {},
     "output_type": "execute_result"
    }
   ],
   "source": [
    "from sklearn.ensemble import RandomForestRegressor\n",
    "\n",
    "forest = RandomForestRegressor(20)\n",
    "forest.fit(X_train, y_train)"
   ]
  },
  {
   "cell_type": "code",
   "execution_count": 1217,
   "metadata": {
    "scrolled": true
   },
   "outputs": [
    {
     "data": {
      "text/plain": [
       "(2.5035543844764834, 2.5035543844764834)"
      ]
     },
     "execution_count": 1217,
     "metadata": {},
     "output_type": "execute_result"
    }
   ],
   "source": [
    "forest_pred = forest.predict(X_valid)\n",
    "tb.root_mean_squared_log_error(np.exp(forest_pred), y_valid)"
   ]
  },
  {
   "cell_type": "markdown",
   "metadata": {},
   "source": [
    "## Stacking"
   ]
  },
  {
   "cell_type": "code",
   "execution_count": 1280,
   "metadata": {},
   "outputs": [],
   "source": [
    "xgb_test_pred = xgboost.predict(xgb.DMatrix(test_feat.values))\n",
    "cat_test_pred = cat.predict(test_feat.values)"
   ]
  },
  {
   "cell_type": "code",
   "execution_count": 1277,
   "metadata": {},
   "outputs": [],
   "source": [
    "# train_stack = np.vstack((xgboost_pred, cat_pred)).T\n",
    "# test_stack = np.vstack((xgb_test_pred, cat_test_pred)).T"
   ]
  },
  {
   "cell_type": "code",
   "execution_count": 1278,
   "metadata": {},
   "outputs": [],
   "source": [
    "# model = RandomForestRegressor(10)\n",
    "# model.fit(train_stack, y_valid)"
   ]
  },
  {
   "cell_type": "code",
   "execution_count": 1279,
   "metadata": {},
   "outputs": [],
   "source": [
    "# stacking_prediction = model.predict(test_stack)\n",
    "# stacking_prediction"
   ]
  },
  {
   "cell_type": "code",
   "execution_count": 1276,
   "metadata": {},
   "outputs": [],
   "source": [
    "# tb.save_as_csv(test_df['id'], xgb_test_pred)"
   ]
  }
 ],
 "metadata": {
  "kernelspec": {
   "display_name": "Python 3",
   "language": "python",
   "name": "python3"
  },
  "language_info": {
   "codemirror_mode": {
    "name": "ipython",
    "version": 3
   },
   "file_extension": ".py",
   "mimetype": "text/x-python",
   "name": "python",
   "nbconvert_exporter": "python",
   "pygments_lexer": "ipython3",
   "version": "3.7.3"
  }
 },
 "nbformat": 4,
 "nbformat_minor": 2
}
