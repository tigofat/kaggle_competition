{
 "cells": [
  {
   "cell_type": "code",
   "execution_count": 8,
   "metadata": {},
   "outputs": [],
   "source": [
    "import pandas as pd\n",
    "import matplotlib.pyplot as plt\n",
    "import numpy as np\n",
    "import warnings\n",
    "import seaborn as sns  \n",
    "from collections import Counter\n",
    "import lightgbm as lgbm\n",
    "import ast\n",
    "from sklearn.preprocessing import MultiLabelBinarizer\n",
    "\n",
    "warnings.filterwarnings(\"ignore\")"
   ]
  },
  {
   "cell_type": "code",
   "execution_count": 2,
   "metadata": {},
   "outputs": [],
   "source": [
    "train = pd.read_csv('train.csv')\n",
    "test = pd.read_csv('test.csv')"
   ]
  },
  {
   "cell_type": "code",
   "execution_count": 3,
   "metadata": {},
   "outputs": [],
   "source": [
    "train.loc[train['id'] == 16,'revenue'] = 192864         \n",
    "train.loc[train['id'] == 90,'budget'] = 30000000                  \n",
    "train.loc[train['id'] == 118,'budget'] = 60000000       \n",
    "train.loc[train['id'] == 149,'budget'] = 18000000       \n",
    "train.loc[train['id'] == 313,'revenue'] = 12000000       \n",
    "train.loc[train['id'] == 451,'revenue'] = 12000000      \n",
    "train.loc[train['id'] == 464,'budget'] = 20000000       \n",
    "train.loc[train['id'] == 470,'budget'] = 13000000       \n",
    "train.loc[train['id'] == 513,'budget'] = 930000         \n",
    "train.loc[train['id'] == 797,'budget'] = 8000000        \n",
    "train.loc[train['id'] == 819,'budget'] = 90000000       \n",
    "train.loc[train['id'] == 850,'budget'] = 90000000       \n",
    "train.loc[train['id'] == 1007,'budget'] = 2              \n",
    "train.loc[train['id'] == 1112,'budget'] = 7500000       \n",
    "train.loc[train['id'] == 1131,'budget'] = 4300000        \n",
    "train.loc[train['id'] == 1359,'budget'] = 10000000       \n",
    "train.loc[train['id'] == 1542,'budget'] = 1             \n",
    "train.loc[train['id'] == 1570,'budget'] = 15800000       \n",
    "train.loc[train['id'] == 1571,'budget'] = 4000000        \n",
    "train.loc[train['id'] == 1714,'budget'] = 46000000       \n",
    "train.loc[train['id'] == 1721,'budget'] = 17500000       \n",
    "train.loc[train['id'] == 1865,'revenue'] = 25000000      \n",
    "train.loc[train['id'] == 1885,'budget'] = 12             \n",
    "train.loc[train['id'] == 2091,'budget'] = 10             \n",
    "train.loc[train['id'] == 2268,'budget'] = 17500000       \n",
    "train.loc[train['id'] == 2491,'budget'] = 6              \n",
    "train.loc[train['id'] == 2602,'budget'] = 31000000       \n",
    "train.loc[train['id'] == 2612,'budget'] = 15000000       \n",
    "train.loc[train['id'] == 2696,'budget'] = 10000000      \n",
    "train.loc[train['id'] == 2801,'budget'] = 10000000       \n",
    "train.loc[train['id'] == 335,'budget'] = 2 \n",
    "train.loc[train['id'] == 348,'budget'] = 12\n",
    "train.loc[train['id'] == 470,'budget'] = 13000000 \n",
    "train.loc[train['id'] == 513,'budget'] = 1100000\n",
    "train.loc[train['id'] == 640,'budget'] = 6 \n",
    "train.loc[train['id'] == 696,'budget'] = 1\n",
    "train.loc[train['id'] == 797,'budget'] = 8000000 \n",
    "train.loc[train['id'] == 850,'budget'] = 1500000\n",
    "train.loc[train['id'] == 1199,'budget'] = 5 \n",
    "train.loc[train['id'] == 1282,'budget'] = 9              \n",
    "train.loc[train['id'] == 1347,'budget'] = 1\n",
    "train.loc[train['id'] == 1755,'budget'] = 2\n",
    "train.loc[train['id'] == 1801,'budget'] = 5\n",
    "train.loc[train['id'] == 1918,'budget'] = 592 \n",
    "train.loc[train['id'] == 2033,'budget'] = 4\n",
    "train.loc[train['id'] == 2118,'budget'] = 344 \n",
    "train.loc[train['id'] == 2252,'budget'] = 130\n",
    "train.loc[train['id'] == 2256,'budget'] = 1 \n",
    "train.loc[train['id'] == 2696,'budget'] = 10000000\n",
    "test.loc[test['id'] == 3033,'budget'] = 250 \n",
    "test.loc[test['id'] == 3051,'budget'] = 50\n",
    "test.loc[test['id'] == 3084,'budget'] = 337\n",
    "test.loc[test['id'] == 3224,'budget'] = 4  \n",
    "test.loc[test['id'] == 3594,'budget'] = 25  \n",
    "test.loc[test['id'] == 3619,'budget'] = 500  \n",
    "test.loc[test['id'] == 3831,'budget'] = 3  \n",
    "test.loc[test['id'] == 3935,'budget'] = 500  \n",
    "test.loc[test['id'] == 4049,'budget'] = 995946 \n",
    "test.loc[test['id'] == 4424,'budget'] = 3  \n",
    "test.loc[test['id'] == 4460,'budget'] = 8  \n",
    "test.loc[test['id'] == 4555,'budget'] = 1200000 \n",
    "test.loc[test['id'] == 4624,'budget'] = 30 \n",
    "test.loc[test['id'] == 4645,'budget'] = 500 \n",
    "test.loc[test['id'] == 4709,'budget'] = 450 \n",
    "test.loc[test['id'] == 4839,'budget'] = 7\n",
    "test.loc[test['id'] == 3125,'budget'] = 25 \n",
    "test.loc[test['id'] == 3142,'budget'] = 1\n",
    "test.loc[test['id'] == 3201,'budget'] = 450\n",
    "test.loc[test['id'] == 3222,'budget'] = 6\n",
    "test.loc[test['id'] == 3545,'budget'] = 38\n",
    "test.loc[test['id'] == 3670,'budget'] = 18\n",
    "test.loc[test['id'] == 3792,'budget'] = 19\n",
    "test.loc[test['id'] == 3881,'budget'] = 7\n",
    "test.loc[test['id'] == 3969,'budget'] = 400\n",
    "test.loc[test['id'] == 4196,'budget'] = 6\n",
    "test.loc[test['id'] == 4221,'budget'] = 11\n",
    "test.loc[test['id'] == 4222,'budget'] = 500\n",
    "test.loc[test['id'] == 4285,'budget'] = 11\n",
    "test.loc[test['id'] == 4319,'budget'] = 1\n",
    "test.loc[test['id'] == 4639,'budget'] = 10\n",
    "test.loc[test['id'] == 4719,'budget'] = 45\n",
    "test.loc[test['id'] == 4822,'budget'] = 22\n",
    "test.loc[test['id'] == 4829,'budget'] = 20\n",
    "test.loc[test['id'] == 4969,'budget'] = 20\n",
    "test.loc[test['id'] == 5021,'budget'] = 40 \n",
    "test.loc[test['id'] == 5035,'budget'] = 1 \n",
    "test.loc[test['id'] == 5063,'budget'] = 14 \n",
    "test.loc[test['id'] == 5119,'budget'] = 2 \n",
    "test.loc[test['id'] == 5214,'budget'] = 30 \n",
    "test.loc[test['id'] == 5221,'budget'] = 50 \n",
    "test.loc[test['id'] == 4903,'budget'] = 15\n",
    "test.loc[test['id'] == 4983,'budget'] = 3\n",
    "test.loc[test['id'] == 5102,'budget'] = 28\n",
    "test.loc[test['id'] == 5217,'budget'] = 75\n",
    "test.loc[test['id'] == 5224,'budget'] = 3 \n",
    "test.loc[test['id'] == 5469,'budget'] = 20 \n",
    "test.loc[test['id'] == 5840,'budget'] = 1 \n",
    "test.loc[test['id'] == 5960,'budget'] = 30\n",
    "test.loc[test['id'] == 6506,'budget'] = 11 \n",
    "test.loc[test['id'] == 6553,'budget'] = 280\n",
    "test.loc[test['id'] == 6561,'budget'] = 7\n",
    "test.loc[test['id'] == 6582,'budget'] = 218\n",
    "test.loc[test['id'] == 6638,'budget'] = 5\n",
    "test.loc[test['id'] == 6749,'budget'] = 8 \n",
    "test.loc[test['id'] == 6759,'budget'] = 50 \n",
    "test.loc[test['id'] == 6856,'budget'] = 10\n",
    "test.loc[test['id'] == 6858,'budget'] =  100\n",
    "test.loc[test['id'] == 6876,'budget'] =  250\n",
    "test.loc[test['id'] == 6972,'budget'] = 1\n",
    "test.loc[test['id'] == 7079,'budget'] = 8000000\n",
    "test.loc[test['id'] == 7150,'budget'] = 118\n",
    "test.loc[test['id'] == 6506,'budget'] = 118\n",
    "test.loc[test['id'] == 7225,'budget'] = 6\n",
    "test.loc[test['id'] == 7231,'budget'] = 85\n",
    "test.loc[test['id'] == 5222,'budget'] = 5\n",
    "test.loc[test['id'] == 5322,'budget'] = 90\n",
    "test.loc[test['id'] == 5350,'budget'] = 70\n",
    "test.loc[test['id'] == 5378,'budget'] = 10\n",
    "test.loc[test['id'] == 5545,'budget'] = 80\n",
    "test.loc[test['id'] == 5810,'budget'] = 8\n",
    "test.loc[test['id'] == 5926,'budget'] = 300\n",
    "test.loc[test['id'] == 5927,'budget'] = 4\n",
    "test.loc[test['id'] == 5986,'budget'] = 1\n",
    "test.loc[test['id'] == 6053,'budget'] = 20\n",
    "test.loc[test['id'] == 6104,'budget'] = 1\n",
    "test.loc[test['id'] == 6130,'budget'] = 30\n",
    "test.loc[test['id'] == 6301,'budget'] = 150\n",
    "test.loc[test['id'] == 6276,'budget'] = 100\n",
    "test.loc[test['id'] == 6473,'budget'] = 100\n",
    "test.loc[test['id'] == 6842,'budget'] = 30"
   ]
  },
  {
   "cell_type": "code",
   "execution_count": 4,
   "metadata": {},
   "outputs": [],
   "source": [
    "train = train.set_index(\"id\")\n",
    "test = test.set_index(\"id\")"
   ]
  },
  {
   "cell_type": "code",
   "execution_count": 5,
   "metadata": {},
   "outputs": [],
   "source": [
    "data = train.append(test)"
   ]
  },
  {
   "cell_type": "code",
   "execution_count": 6,
   "metadata": {},
   "outputs": [
    {
     "data": {
      "text/plain": [
       "(3000, 4398, 7398)"
      ]
     },
     "execution_count": 6,
     "metadata": {},
     "output_type": "execute_result"
    }
   ],
   "source": [
    "len(train), len(test), len(data)"
   ]
  },
  {
   "cell_type": "markdown",
   "metadata": {},
   "source": [
    "## helpers"
   ]
  },
  {
   "cell_type": "code",
   "execution_count": 9,
   "metadata": {},
   "outputs": [],
   "source": [
    "def loss(predictions, targets):\n",
    "    sum_ = np.sum(np.square(predictions - targets))\n",
    "    return (sum_ / len(targets)) ** 0.5\n",
    "\n",
    "def proc(x):\n",
    "    try: r = ast.literal_eval(x)\n",
    "    except: r =[]\n",
    "    return r\n",
    "\n",
    "def return_names(x):\n",
    "        r = []\n",
    "        for x_ in x:\n",
    "            r.append(x_['name'])\n",
    "        return r\n",
    "\n",
    "def get_most_freq(n, ll):\n",
    "    l = []\n",
    "    for datum in ll:\n",
    "        l.extend(datum)\n",
    "    c = Counter(l)\n",
    "    return [s[0] for s in c.most_common(n)]\n",
    "\n",
    "def sum_freqs(ll):\n",
    "    l = []\n",
    "    for datum in ll:\n",
    "        l.extend(datum)\n",
    "    c = Counter(l)\n",
    "    def sum_freqs_ll(x):\n",
    "        return sum([c[i] for i in x])\n",
    "    return sum_freqs_ll"
   ]
  },
  {
   "cell_type": "markdown",
   "metadata": {},
   "source": [
    "## feature creation"
   ]
  },
  {
   "cell_type": "code",
   "execution_count": 10,
   "metadata": {},
   "outputs": [],
   "source": [
    "def add_features(df):\n",
    "    data = df.copy()\n",
    "    # date features\n",
    "    data[['release_month','release_day','release_year']]=data['release_date'].str.split(\n",
    "        '/',expand=True).replace(np.nan, -1).astype(int)\n",
    "    data.loc[ (data['release_year'] <= 19) & (data['release_year'] < 100), \"release_year\"] += 2000\n",
    "    data.loc[ (data['release_year'] > 19)  & (data['release_year'] < 100), \"release_year\"] += 1900\n",
    "    releaseDate = pd.to_datetime(data['release_date']) \n",
    "    data['release_dayofweek'] = releaseDate.dt.dayofweek\n",
    "    \n",
    "    # binar features\n",
    "    data['has_homepage'] = 1\n",
    "    data.loc[pd.isnull(data['homepage']) ,\"has_homepage\"] = 0\n",
    "    data['isTaglineNA'] = 0\n",
    "    data.loc[pd.isnull(data['tagline']) ,\"isTaglineNA\"] = 1\n",
    "    data['isOriginalLanguageEng'] = 0 \n",
    "    data.loc[ data['original_language'] == \"en\" ,\"isOriginalLanguageEng\"] = 1\n",
    "    \n",
    "    # some devisions\n",
    "    data['popularity_mean_year'] = data['popularity'] / data.groupby(\"release_year\")[\"popularity\"].transform('mean')\n",
    "    data['releaseYear_popularity_ratio'] = data['release_year']/data['popularity']\n",
    "    data['releaseYear_popularity_ratio2'] = data['popularity']/data['release_year']\n",
    "    \n",
    "    # strange counts\n",
    "    data['production_countries_count'] = data['production_countries'].apply(proc).apply(lambda x : len(x))\n",
    "    data['production_companies_count'] = data['production_companies'].apply(proc).apply(lambda x : len(x))\n",
    "    data['cast_count'] = data['cast'].apply(proc).apply(lambda x : len(x))\n",
    "    data['crew_count'] = data['crew'].apply(proc).apply(lambda x : len(x))\n",
    "    data['genres_count'] = data['genres'].apply(proc).apply(lambda x : len(x))\n",
    "    \n",
    "    # strange sum counts\n",
    "    crew = data.crew.apply(proc).apply(return_names)\n",
    "    data[\"crew_sum_count\"] = crew.apply(sum_freqs(crew.values))\n",
    "    genre = data.genres.apply(proc).apply(return_names)\n",
    "    data[\"genres_sum_count\"] = genre.apply(sum_freqs(genre.values))\n",
    "    country = data.production_countries.apply(proc).apply(return_names)\n",
    "    data[\"country_sum_count\"] = country.apply(sum_freqs(country.values))\n",
    "    companies = data.production_companies.apply(proc).apply(return_names)\n",
    "    data[\"companies_sum_count\"] = companies.apply(sum_freqs(companies.values))\n",
    "    cast = data.cast.apply(proc).apply(return_names)\n",
    "    data[\"cast_sum_count\"] = cast.apply(sum_freqs(cast.values))\n",
    "    Keywords = data.Keywords.apply(proc).apply(return_names)\n",
    "    data[\"Keywords_sum_count\"] = Keywords.apply(sum_freqs(Keywords.values))\n",
    "    \n",
    "    features = [\"release_month\", \"release_year\", \"release_dayofweek\", \"has_homepage\", \"isTaglineNA\",\n",
    "                \"isOriginalLanguageEng\", \"popularity_mean_year\", \"releaseYear_popularity_ratio\",\n",
    "                \"releaseYear_popularity_ratio2\", \"popularity\", \"production_companies_count\",\n",
    "                \"production_countries_count\", \"cast_count\", \"crew_count\", \"genres_count\", \"crew_sum_count\",\n",
    "                \"genres_sum_count\", \"country_sum_count\", \"companies_sum_count\", \"cast_sum_count\",\n",
    "                \"Keywords_sum_count\"]\n",
    "    \n",
    "    # one hot encode\n",
    "    mlb = MultiLabelBinarizer(get_most_freq(4, data.genres.apply(proc).apply(return_names).values))\n",
    "    X = mlb.fit_transform(data.genres.apply(proc).apply(return_names))\n",
    "    data = data.join(pd.DataFrame(X, columns=mlb.classes_))\n",
    "    features.extend(list(mlb.classes_))\n",
    "    \n",
    "    return features, data"
   ]
  },
  {
   "cell_type": "code",
   "execution_count": 11,
   "metadata": {},
   "outputs": [],
   "source": [
    "def add_budget_features(df, features):\n",
    "    data = df.copy()\n",
    "    data['inflationBudget'] = np.log(data['budget'] + data['budget']*1.8/100*(2018-data['release_year']) + 1)\n",
    "    data[\"log_budget\"]  = np.log(data['budget']+1)\n",
    "    data['budget_runtime_ratio'] = data['budget']/data['runtime'] \n",
    "    data['budget_popularity_ratio'] = data['budget']/data['popularity']\n",
    "    data['budget_year_ratio'] = data['budget']/(data['release_year'])\n",
    "    features.extend([\"log_budget\", \"budget_runtime_ratio\", \"budget_popularity_ratio\",\n",
    "                     \"budget_year_ratio\", \"inflationBudget\"])\n",
    "    return features, data"
   ]
  },
  {
   "cell_type": "markdown",
   "metadata": {},
   "source": [
    "## make features and slice into train and validation"
   ]
  },
  {
   "cell_type": "code",
   "execution_count": 12,
   "metadata": {},
   "outputs": [],
   "source": [
    "features, data = add_features(data)"
   ]
  },
  {
   "cell_type": "code",
   "execution_count": 13,
   "metadata": {},
   "outputs": [
    {
     "data": {
      "text/html": [
       "<div>\n",
       "<style scoped>\n",
       "    .dataframe tbody tr th:only-of-type {\n",
       "        vertical-align: middle;\n",
       "    }\n",
       "\n",
       "    .dataframe tbody tr th {\n",
       "        vertical-align: top;\n",
       "    }\n",
       "\n",
       "    .dataframe thead th {\n",
       "        text-align: right;\n",
       "    }\n",
       "</style>\n",
       "<table border=\"1\" class=\"dataframe\">\n",
       "  <thead>\n",
       "    <tr style=\"text-align: right;\">\n",
       "      <th></th>\n",
       "      <th>release_month</th>\n",
       "      <th>release_year</th>\n",
       "      <th>release_dayofweek</th>\n",
       "      <th>has_homepage</th>\n",
       "      <th>isTaglineNA</th>\n",
       "      <th>isOriginalLanguageEng</th>\n",
       "      <th>popularity_mean_year</th>\n",
       "      <th>releaseYear_popularity_ratio</th>\n",
       "      <th>releaseYear_popularity_ratio2</th>\n",
       "      <th>popularity</th>\n",
       "      <th>...</th>\n",
       "      <th>crew_sum_count</th>\n",
       "      <th>genres_sum_count</th>\n",
       "      <th>country_sum_count</th>\n",
       "      <th>companies_sum_count</th>\n",
       "      <th>cast_sum_count</th>\n",
       "      <th>Keywords_sum_count</th>\n",
       "      <th>Drama</th>\n",
       "      <th>Comedy</th>\n",
       "      <th>Thriller</th>\n",
       "      <th>Action</th>\n",
       "    </tr>\n",
       "    <tr>\n",
       "      <th>id</th>\n",
       "      <th></th>\n",
       "      <th></th>\n",
       "      <th></th>\n",
       "      <th></th>\n",
       "      <th></th>\n",
       "      <th></th>\n",
       "      <th></th>\n",
       "      <th></th>\n",
       "      <th></th>\n",
       "      <th></th>\n",
       "      <th></th>\n",
       "      <th></th>\n",
       "      <th></th>\n",
       "      <th></th>\n",
       "      <th></th>\n",
       "      <th></th>\n",
       "      <th></th>\n",
       "      <th></th>\n",
       "      <th></th>\n",
       "      <th></th>\n",
       "      <th></th>\n",
       "    </tr>\n",
       "  </thead>\n",
       "  <tbody>\n",
       "    <tr>\n",
       "      <th>1</th>\n",
       "      <td>2</td>\n",
       "      <td>2015</td>\n",
       "      <td>4.0</td>\n",
       "      <td>0</td>\n",
       "      <td>0</td>\n",
       "      <td>1</td>\n",
       "      <td>0.577030</td>\n",
       "      <td>306.445562</td>\n",
       "      <td>0.003263</td>\n",
       "      <td>6.575393</td>\n",
       "      <td>...</td>\n",
       "      <td>312</td>\n",
       "      <td>2605</td>\n",
       "      <td>5617</td>\n",
       "      <td>705</td>\n",
       "      <td>236</td>\n",
       "      <td>569</td>\n",
       "      <td>1.0</td>\n",
       "      <td>1.0</td>\n",
       "      <td>0.0</td>\n",
       "      <td>0.0</td>\n",
       "    </tr>\n",
       "    <tr>\n",
       "      <th>2</th>\n",
       "      <td>8</td>\n",
       "      <td>2004</td>\n",
       "      <td>4.0</td>\n",
       "      <td>0</td>\n",
       "      <td>0</td>\n",
       "      <td>1</td>\n",
       "      <td>0.964887</td>\n",
       "      <td>242.941630</td>\n",
       "      <td>0.004116</td>\n",
       "      <td>8.248895</td>\n",
       "      <td>...</td>\n",
       "      <td>124</td>\n",
       "      <td>8391</td>\n",
       "      <td>5617</td>\n",
       "      <td>147</td>\n",
       "      <td>200</td>\n",
       "      <td>106</td>\n",
       "      <td>1.0</td>\n",
       "      <td>0.0</td>\n",
       "      <td>0.0</td>\n",
       "      <td>0.0</td>\n",
       "    </tr>\n",
       "    <tr>\n",
       "      <th>3</th>\n",
       "      <td>10</td>\n",
       "      <td>2014</td>\n",
       "      <td>4.0</td>\n",
       "      <td>1</td>\n",
       "      <td>0</td>\n",
       "      <td>1</td>\n",
       "      <td>5.257813</td>\n",
       "      <td>31.321933</td>\n",
       "      <td>0.031927</td>\n",
       "      <td>64.299990</td>\n",
       "      <td>...</td>\n",
       "      <td>417</td>\n",
       "      <td>3676</td>\n",
       "      <td>5617</td>\n",
       "      <td>45</td>\n",
       "      <td>189</td>\n",
       "      <td>435</td>\n",
       "      <td>1.0</td>\n",
       "      <td>0.0</td>\n",
       "      <td>1.0</td>\n",
       "      <td>0.0</td>\n",
       "    </tr>\n",
       "    <tr>\n",
       "      <th>4</th>\n",
       "      <td>3</td>\n",
       "      <td>2012</td>\n",
       "      <td>4.0</td>\n",
       "      <td>1</td>\n",
       "      <td>1</td>\n",
       "      <td>0</td>\n",
       "      <td>0.402309</td>\n",
       "      <td>633.713561</td>\n",
       "      <td>0.001578</td>\n",
       "      <td>3.174936</td>\n",
       "      <td>...</td>\n",
       "      <td>9</td>\n",
       "      <td>5545</td>\n",
       "      <td>220</td>\n",
       "      <td>0</td>\n",
       "      <td>28</td>\n",
       "      <td>111</td>\n",
       "      <td>0.0</td>\n",
       "      <td>0.0</td>\n",
       "      <td>1.0</td>\n",
       "      <td>1.0</td>\n",
       "    </tr>\n",
       "    <tr>\n",
       "      <th>5</th>\n",
       "      <td>2</td>\n",
       "      <td>2009</td>\n",
       "      <td>3.0</td>\n",
       "      <td>0</td>\n",
       "      <td>1</td>\n",
       "      <td>0</td>\n",
       "      <td>0.138906</td>\n",
       "      <td>1749.893299</td>\n",
       "      <td>0.000571</td>\n",
       "      <td>1.148070</td>\n",
       "      <td>...</td>\n",
       "      <td>4</td>\n",
       "      <td>3604</td>\n",
       "      <td>58</td>\n",
       "      <td>0</td>\n",
       "      <td>9</td>\n",
       "      <td>0</td>\n",
       "      <td>0.0</td>\n",
       "      <td>0.0</td>\n",
       "      <td>0.0</td>\n",
       "      <td>0.0</td>\n",
       "    </tr>\n",
       "  </tbody>\n",
       "</table>\n",
       "<p>5 rows × 25 columns</p>\n",
       "</div>"
      ],
      "text/plain": [
       "    release_month  release_year  release_dayofweek  has_homepage  isTaglineNA  \\\n",
       "id                                                                              \n",
       "1               2          2015                4.0             0            0   \n",
       "2               8          2004                4.0             0            0   \n",
       "3              10          2014                4.0             1            0   \n",
       "4               3          2012                4.0             1            1   \n",
       "5               2          2009                3.0             0            1   \n",
       "\n",
       "    isOriginalLanguageEng  popularity_mean_year  releaseYear_popularity_ratio  \\\n",
       "id                                                                              \n",
       "1                       1              0.577030                    306.445562   \n",
       "2                       1              0.964887                    242.941630   \n",
       "3                       1              5.257813                     31.321933   \n",
       "4                       0              0.402309                    633.713561   \n",
       "5                       0              0.138906                   1749.893299   \n",
       "\n",
       "    releaseYear_popularity_ratio2  popularity  ...  crew_sum_count  \\\n",
       "id                                             ...                   \n",
       "1                        0.003263    6.575393  ...             312   \n",
       "2                        0.004116    8.248895  ...             124   \n",
       "3                        0.031927   64.299990  ...             417   \n",
       "4                        0.001578    3.174936  ...               9   \n",
       "5                        0.000571    1.148070  ...               4   \n",
       "\n",
       "    genres_sum_count  country_sum_count  companies_sum_count  cast_sum_count  \\\n",
       "id                                                                             \n",
       "1               2605               5617                  705             236   \n",
       "2               8391               5617                  147             200   \n",
       "3               3676               5617                   45             189   \n",
       "4               5545                220                    0              28   \n",
       "5               3604                 58                    0               9   \n",
       "\n",
       "    Keywords_sum_count  Drama  Comedy  Thriller  Action  \n",
       "id                                                       \n",
       "1                  569    1.0     1.0       0.0     0.0  \n",
       "2                  106    1.0     0.0       0.0     0.0  \n",
       "3                  435    1.0     0.0       1.0     0.0  \n",
       "4                  111    0.0     0.0       1.0     1.0  \n",
       "5                    0    0.0     0.0       0.0     0.0  \n",
       "\n",
       "[5 rows x 25 columns]"
      ]
     },
     "execution_count": 13,
     "metadata": {},
     "output_type": "execute_result"
    }
   ],
   "source": [
    "data[features].head()"
   ]
  },
  {
   "cell_type": "code",
   "execution_count": 14,
   "metadata": {},
   "outputs": [],
   "source": [
    "train = data[:3000]\n",
    "test = data[3000:]"
   ]
  },
  {
   "cell_type": "code",
   "execution_count": 15,
   "metadata": {},
   "outputs": [],
   "source": [
    "train_main = train[:2000]\n",
    "val = train[2000:]"
   ]
  },
  {
   "cell_type": "code",
   "execution_count": 16,
   "metadata": {},
   "outputs": [
    {
     "data": {
      "text/plain": [
       "(2000, 1000)"
      ]
     },
     "execution_count": 16,
     "metadata": {},
     "output_type": "execute_result"
    }
   ],
   "source": [
    "len(train_main), len(val)"
   ]
  },
  {
   "cell_type": "markdown",
   "metadata": {},
   "source": [
    "## train no budget"
   ]
  },
  {
   "cell_type": "code",
   "execution_count": 17,
   "metadata": {},
   "outputs": [
    {
     "data": {
      "text/plain": [
       "LGBMRegressor(boosting_type='gbdt', class_weight=None, colsample_bytree=1.0,\n",
       "       importance_type='split', learning_rate=0.1, max_depth=5,\n",
       "       min_child_samples=20, min_child_weight=0.001, min_split_gain=0.0,\n",
       "       n_estimators=50, n_jobs=-1, num_leaves=30, objective=None,\n",
       "       random_state=None, reg_alpha=0.0, reg_lambda=0.0, silent=True,\n",
       "       subsample=1.0, subsample_for_bin=200000, subsample_freq=0)"
      ]
     },
     "execution_count": 17,
     "metadata": {},
     "output_type": "execute_result"
    }
   ],
   "source": [
    "model = lgbm.LGBMRegressor(num_leaves=30, n_estimators=50, max_depth=5, learning_rate=0.1)\n",
    "model.fit(train_main[features], np.log(train_main.revenue.values))"
   ]
  },
  {
   "cell_type": "code",
   "execution_count": 18,
   "metadata": {},
   "outputs": [],
   "source": [
    "predicted = model.predict(train_main[features])"
   ]
  },
  {
   "cell_type": "code",
   "execution_count": 19,
   "metadata": {},
   "outputs": [
    {
     "data": {
      "text/plain": [
       "1.7258364464664824"
      ]
     },
     "execution_count": 19,
     "metadata": {},
     "output_type": "execute_result"
    }
   ],
   "source": [
    "loss(predicted, np.log(train_main.revenue.values))"
   ]
  },
  {
   "cell_type": "code",
   "execution_count": 20,
   "metadata": {},
   "outputs": [
    {
     "data": {
      "image/png": "[encoded data removed]",
      "text/plain": [
       "<Figure size 1440x720 with 1 Axes>"
      ]
     },
     "metadata": {
      "needs_background": "light"
     },
     "output_type": "display_data"
    }
   ],
   "source": [
    "feature_imp = pd.DataFrame(sorted(zip(model.feature_importances_, features)), columns=['Value','Feature'])\n",
    "plt.figure(figsize=(20, 10))\n",
    "sns.barplot(x=\"Value\", y=\"Feature\", data=feature_imp.sort_values(by=\"Value\", ascending=False));"
   ]
  },
  {
   "cell_type": "code",
   "execution_count": 21,
   "metadata": {},
   "outputs": [
    {
     "data": {
      "text/plain": [
       "2.185863413496643"
      ]
     },
     "execution_count": 21,
     "metadata": {},
     "output_type": "execute_result"
    }
   ],
   "source": [
    "loss(model.predict(val[features]), np.log(val.revenue))"
   ]
  },
  {
   "cell_type": "markdown",
   "metadata": {},
   "source": [
    "## no budget prediction"
   ]
  },
  {
   "cell_type": "code",
   "execution_count": 22,
   "metadata": {},
   "outputs": [
    {
     "data": {
      "text/plain": [
       "LGBMRegressor(boosting_type='gbdt', class_weight=None, colsample_bytree=1.0,\n",
       "       importance_type='split', learning_rate=0.1, max_depth=5,\n",
       "       min_child_samples=20, min_child_weight=0.001, min_split_gain=0.0,\n",
       "       n_estimators=50, n_jobs=-1, num_leaves=30, objective=None,\n",
       "       random_state=None, reg_alpha=0.0, reg_lambda=0.0, silent=True,\n",
       "       subsample=1.0, subsample_for_bin=200000, subsample_freq=0)"
      ]
     },
     "execution_count": 22,
     "metadata": {},
     "output_type": "execute_result"
    }
   ],
   "source": [
    "model = lgbm.LGBMRegressor(num_leaves=30, n_estimators=50, max_depth=5, learning_rate=0.1)\n",
    "model.fit(train[features], np.log(train.revenue.values))"
   ]
  },
  {
   "cell_type": "code",
   "execution_count": 23,
   "metadata": {},
   "outputs": [],
   "source": [
    "no_budget_prediction = pd.Series(model.predict(test[test.budget == 0][features]), index=test[test.budget == 0].revenue.index)"
   ]
  },
  {
   "cell_type": "markdown",
   "metadata": {},
   "source": [
    "## budget prediction"
   ]
  },
  {
   "cell_type": "code",
   "execution_count": 24,
   "metadata": {},
   "outputs": [],
   "source": [
    "features, data = add_budget_features(data, features)"
   ]
  },
  {
   "cell_type": "code",
   "execution_count": 25,
   "metadata": {},
   "outputs": [],
   "source": [
    "train = data[:3000]\n",
    "test = data[3000:]\n",
    "\n",
    "train = train[train.budget != 0]\n",
    "train_main = train[:1300]\n",
    "val = train[1300:]"
   ]
  },
  {
   "cell_type": "code",
   "execution_count": 26,
   "metadata": {},
   "outputs": [
    {
     "data": {
      "text/plain": [
       "(1300, 904)"
      ]
     },
     "execution_count": 26,
     "metadata": {},
     "output_type": "execute_result"
    }
   ],
   "source": [
    "len(train_main), len(val)"
   ]
  },
  {
   "cell_type": "code",
   "execution_count": 29,
   "metadata": {},
   "outputs": [
    {
     "data": {
      "text/plain": [
       "LGBMRegressor(boosting_type='gbdt', class_weight=None, colsample_bytree=1.0,\n",
       "       importance_type='split', learning_rate=0.1, max_depth=5,\n",
       "       min_child_samples=20, min_child_weight=0.001, min_split_gain=0.0,\n",
       "       n_estimators=100, n_jobs=-1, num_leaves=15, objective=None,\n",
       "       random_state=None, reg_alpha=0.0, reg_lambda=0.0, silent=True,\n",
       "       subsample=1.0, subsample_for_bin=200000, subsample_freq=0)"
      ]
     },
     "execution_count": 29,
     "metadata": {},
     "output_type": "execute_result"
    }
   ],
   "source": [
    "model = lgbm.LGBMRegressor(num_leaves=15, n_estimators=100, max_depth=5, learning_rate=0.1)\n",
    "model.fit(train_main[features], np.log(train_main.revenue.values))"
   ]
  },
  {
   "cell_type": "code",
   "execution_count": 30,
   "metadata": {},
   "outputs": [
    {
     "data": {
      "text/plain": [
       "1.0354097997164833"
      ]
     },
     "execution_count": 30,
     "metadata": {},
     "output_type": "execute_result"
    }
   ],
   "source": [
    "predicted = model.predict(train_main[features])\n",
    "loss(predicted, np.log(train_main.revenue.values))"
   ]
  },
  {
   "cell_type": "code",
   "execution_count": 31,
   "metadata": {},
   "outputs": [
    {
     "data": {
      "image/png": "[encoded data removed]",
      "text/plain": [
       "<Figure size 1440x720 with 1 Axes>"
      ]
     },
     "metadata": {
      "needs_background": "light"
     },
     "output_type": "display_data"
    }
   ],
   "source": [
    "feature_imp = pd.DataFrame(sorted(zip(model.feature_importances_, features)), columns=['Value','Feature'])\n",
    "plt.figure(figsize=(20, 10))\n",
    "sns.barplot(x=\"Value\", y=\"Feature\", data=feature_imp.sort_values(by=\"Value\", ascending=False));"
   ]
  },
  {
   "cell_type": "code",
   "execution_count": 32,
   "metadata": {},
   "outputs": [
    {
     "data": {
      "text/plain": [
       "1.4916367681073508"
      ]
     },
     "execution_count": 32,
     "metadata": {},
     "output_type": "execute_result"
    }
   ],
   "source": [
    "loss(model.predict(val[features]), np.log(val.revenue))"
   ]
  },
  {
   "cell_type": "markdown",
   "metadata": {},
   "source": [
    "## predict with budget"
   ]
  },
  {
   "cell_type": "code",
   "execution_count": 33,
   "metadata": {},
   "outputs": [
    {
     "data": {
      "text/plain": [
       "LGBMRegressor(boosting_type='gbdt', class_weight=None, colsample_bytree=1.0,\n",
       "       importance_type='split', learning_rate=0.1, max_depth=5,\n",
       "       min_child_samples=20, min_child_weight=0.001, min_split_gain=0.0,\n",
       "       n_estimators=100, n_jobs=-1, num_leaves=15, objective=None,\n",
       "       random_state=None, reg_alpha=0.0, reg_lambda=0.0, silent=True,\n",
       "       subsample=1.0, subsample_for_bin=200000, subsample_freq=0)"
      ]
     },
     "execution_count": 33,
     "metadata": {},
     "output_type": "execute_result"
    }
   ],
   "source": [
    "model = lgbm.LGBMRegressor(num_leaves=15, n_estimators=100, max_depth=5, learning_rate=0.1)\n",
    "model.fit(train[train.budget != 0][features], np.log(train[train.budget != 0].revenue.values))"
   ]
  },
  {
   "cell_type": "code",
   "execution_count": 34,
   "metadata": {},
   "outputs": [],
   "source": [
    "budget_prediction = pd.Series(model.predict(test[test.budget != 0][features]),\n",
    "                              index=test[test.budget != 0].revenue.index)"
   ]
  },
  {
   "cell_type": "markdown",
   "metadata": {},
   "source": [
    "## combining"
   ]
  },
  {
   "cell_type": "code",
   "execution_count": 35,
   "metadata": {},
   "outputs": [
    {
     "data": {
      "text/plain": [
       "(4398, 4398)"
      ]
     },
     "execution_count": 35,
     "metadata": {},
     "output_type": "execute_result"
    }
   ],
   "source": [
    "len(no_budget_prediction) + len(budget_prediction), len(test)"
   ]
  },
  {
   "cell_type": "code",
   "execution_count": 36,
   "metadata": {},
   "outputs": [],
   "source": [
    "sub = pd.read_csv(\"./sample_submission.csv\")\n",
    "sub = sub.set_index(\"id\")"
   ]
  },
  {
   "cell_type": "code",
   "execution_count": 37,
   "metadata": {},
   "outputs": [],
   "source": [
    "sub.revenue.update(no_budget_prediction)\n",
    "sub.revenue.update(budget_prediction)"
   ]
  },
  {
   "cell_type": "code",
   "execution_count": 38,
   "metadata": {},
   "outputs": [],
   "source": [
    "sub.revenue = np.exp(sub.revenue)"
   ]
  },
  {
   "cell_type": "code",
   "execution_count": 39,
   "metadata": {},
   "outputs": [],
   "source": [
    "sub.to_csv(\"sub\")"
   ]
  }
 ],
 "metadata": {
  "kernelspec": {
   "display_name": "Python 3",
   "language": "python",
   "name": "python3"
  },
  "language_info": {
   "codemirror_mode": {
    "name": "ipython",
    "version": 3
   },
   "file_extension": ".py",
   "mimetype": "text/x-python",
   "name": "python",
   "nbconvert_exporter": "python",
   "pygments_lexer": "ipython3",
   "version": "3.7.3"
  }
 },
 "nbformat": 4,
 "nbformat_minor": 2
}
