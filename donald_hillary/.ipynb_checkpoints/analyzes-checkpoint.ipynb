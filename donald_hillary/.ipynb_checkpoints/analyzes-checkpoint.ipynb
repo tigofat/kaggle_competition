{
 "cells": [
  {
   "cell_type": "code",
   "execution_count": 148,
   "metadata": {},
   "outputs": [],
   "source": [
    "import numpy as np\n",
    "import pandas as pd\n",
    "import matplotlib.pyplot as plt\n",
    "\n",
    "import os\n",
    "from importlib import reload\n",
    "import ast\n",
    "\n",
    "import tools\n",
    "\n",
    "tools = reload(tools)"
   ]
  },
  {
   "cell_type": "code",
   "execution_count": 4,
   "metadata": {},
   "outputs": [
    {
     "data": {
      "text/plain": [
       "((4510, 29), (967, 30), (967, 30))"
      ]
     },
     "execution_count": 4,
     "metadata": {},
     "output_type": "execute_result"
    }
   ],
   "source": [
    "train_data = pd.read_csv(os.path.join('data', 'train.csv'))\n",
    "valid_data = pd.read_csv(os.path.join('data', 'test.csv'))\n",
    "test_data = pd.read_csv(os.path.join('data', 'test.csv'))\n",
    "\n",
    "train_data.shape, valid_data.shape, test_data.shape"
   ]
  },
  {
   "cell_type": "code",
   "execution_count": 7,
   "metadata": {},
   "outputs": [
    {
     "data": {
      "text/html": [
       "<div>\n",
       "<style scoped>\n",
       "    .dataframe tbody tr th:only-of-type {\n",
       "        vertical-align: middle;\n",
       "    }\n",
       "\n",
       "    .dataframe tbody tr th {\n",
       "        vertical-align: top;\n",
       "    }\n",
       "\n",
       "    .dataframe thead th {\n",
       "        text-align: right;\n",
       "    }\n",
       "</style>\n",
       "<table border=\"1\" class=\"dataframe\">\n",
       "  <thead>\n",
       "    <tr style=\"text-align: right;\">\n",
       "      <th></th>\n",
       "      <th>Unnamed: 0</th>\n",
       "      <th>id</th>\n",
       "      <th>text</th>\n",
       "      <th>is_retweet</th>\n",
       "      <th>original_author</th>\n",
       "      <th>time</th>\n",
       "      <th>in_reply_to_screen_name</th>\n",
       "      <th>in_reply_to_status_id</th>\n",
       "      <th>in_reply_to_user_id</th>\n",
       "      <th>is_quote_status</th>\n",
       "      <th>...</th>\n",
       "      <th>place_country_code</th>\n",
       "      <th>place_country</th>\n",
       "      <th>place_contained_within</th>\n",
       "      <th>place_attributes</th>\n",
       "      <th>place_bounding_box</th>\n",
       "      <th>source_url</th>\n",
       "      <th>truncated</th>\n",
       "      <th>entities</th>\n",
       "      <th>extended_entities</th>\n",
       "      <th>handle</th>\n",
       "    </tr>\n",
       "  </thead>\n",
       "  <tbody>\n",
       "    <tr>\n",
       "      <th>0</th>\n",
       "      <td>142</td>\n",
       "      <td>780576124023762944</td>\n",
       "      <td>Having a small business owner for a dad may no...</td>\n",
       "      <td>False</td>\n",
       "      <td>NaN</td>\n",
       "      <td>2016-09-27T01:13:45</td>\n",
       "      <td>NaN</td>\n",
       "      <td>NaN</td>\n",
       "      <td>NaN</td>\n",
       "      <td>False</td>\n",
       "      <td>...</td>\n",
       "      <td>NaN</td>\n",
       "      <td>NaN</td>\n",
       "      <td>NaN</td>\n",
       "      <td>NaN</td>\n",
       "      <td>NaN</td>\n",
       "      <td>https://about.twitter.com/products/tweetdeck</td>\n",
       "      <td>True</td>\n",
       "      <td>{'user_mentions': [], 'symbols': [], 'urls': [...</td>\n",
       "      <td>NaN</td>\n",
       "      <td>HillaryClinton</td>\n",
       "    </tr>\n",
       "    <tr>\n",
       "      <th>1</th>\n",
       "      <td>2776</td>\n",
       "      <td>752954885646278656</td>\n",
       "      <td>Taking on systemic racism—and rebuilding trust...</td>\n",
       "      <td>False</td>\n",
       "      <td>NaN</td>\n",
       "      <td>2016-07-12T19:56:48</td>\n",
       "      <td>NaN</td>\n",
       "      <td>NaN</td>\n",
       "      <td>NaN</td>\n",
       "      <td>False</td>\n",
       "      <td>...</td>\n",
       "      <td>NaN</td>\n",
       "      <td>NaN</td>\n",
       "      <td>NaN</td>\n",
       "      <td>NaN</td>\n",
       "      <td>NaN</td>\n",
       "      <td>https://about.twitter.com/products/tweetdeck</td>\n",
       "      <td>False</td>\n",
       "      <td>{'media': [{'display_url': 'pic.twitter.com/dX...</td>\n",
       "      <td>{'media': [{'display_url': 'pic.twitter.com/dX...</td>\n",
       "      <td>HillaryClinton</td>\n",
       "    </tr>\n",
       "    <tr>\n",
       "      <th>2</th>\n",
       "      <td>4274</td>\n",
       "      <td>731602950523518976</td>\n",
       "      <td>Made a new friend in Ohio.\\nhttps://t.co/a5eq9...</td>\n",
       "      <td>False</td>\n",
       "      <td>NaN</td>\n",
       "      <td>2016-05-14T21:51:50</td>\n",
       "      <td>NaN</td>\n",
       "      <td>NaN</td>\n",
       "      <td>NaN</td>\n",
       "      <td>False</td>\n",
       "      <td>...</td>\n",
       "      <td>NaN</td>\n",
       "      <td>NaN</td>\n",
       "      <td>NaN</td>\n",
       "      <td>NaN</td>\n",
       "      <td>NaN</td>\n",
       "      <td>http://twitter.com</td>\n",
       "      <td>False</td>\n",
       "      <td>{'user_mentions': [], 'symbols': [], 'urls': [...</td>\n",
       "      <td>NaN</td>\n",
       "      <td>HillaryClinton</td>\n",
       "    </tr>\n",
       "    <tr>\n",
       "      <th>3</th>\n",
       "      <td>2015</td>\n",
       "      <td>758492727583576064</td>\n",
       "      <td>Our country does not feel 'great already' to t...</td>\n",
       "      <td>False</td>\n",
       "      <td>NaN</td>\n",
       "      <td>2016-07-28T02:42:13</td>\n",
       "      <td>NaN</td>\n",
       "      <td>NaN</td>\n",
       "      <td>NaN</td>\n",
       "      <td>False</td>\n",
       "      <td>...</td>\n",
       "      <td>NaN</td>\n",
       "      <td>NaN</td>\n",
       "      <td>NaN</td>\n",
       "      <td>NaN</td>\n",
       "      <td>NaN</td>\n",
       "      <td>http://twitter.com/download/iphone</td>\n",
       "      <td>False</td>\n",
       "      <td>{'user_mentions': [], 'symbols': [], 'urls': [...</td>\n",
       "      <td>NaN</td>\n",
       "      <td>realDonaldTrump</td>\n",
       "    </tr>\n",
       "    <tr>\n",
       "      <th>4</th>\n",
       "      <td>2486</td>\n",
       "      <td>755975695940001792</td>\n",
       "      <td>MAKE AMERICA GREAT AGAIN! https://t.co/qL9rjb7OsD</td>\n",
       "      <td>False</td>\n",
       "      <td>NaN</td>\n",
       "      <td>2016-07-21T04:00:25</td>\n",
       "      <td>NaN</td>\n",
       "      <td>NaN</td>\n",
       "      <td>NaN</td>\n",
       "      <td>False</td>\n",
       "      <td>...</td>\n",
       "      <td>US</td>\n",
       "      <td>United States</td>\n",
       "      <td>[]</td>\n",
       "      <td>{}</td>\n",
       "      <td>BoundingBox(type='Polygon', coordinates=[[[-81...</td>\n",
       "      <td>http://twitter.com/download/iphone</td>\n",
       "      <td>False</td>\n",
       "      <td>{'media': [{'display_url': 'pic.twitter.com/qL...</td>\n",
       "      <td>{'media': [{'display_url': 'pic.twitter.com/qL...</td>\n",
       "      <td>realDonaldTrump</td>\n",
       "    </tr>\n",
       "  </tbody>\n",
       "</table>\n",
       "<p>5 rows × 29 columns</p>\n",
       "</div>"
      ],
      "text/plain": [
       "   Unnamed: 0                  id  \\\n",
       "0         142  780576124023762944   \n",
       "1        2776  752954885646278656   \n",
       "2        4274  731602950523518976   \n",
       "3        2015  758492727583576064   \n",
       "4        2486  755975695940001792   \n",
       "\n",
       "                                                text  is_retweet  \\\n",
       "0  Having a small business owner for a dad may no...       False   \n",
       "1  Taking on systemic racism—and rebuilding trust...       False   \n",
       "2  Made a new friend in Ohio.\\nhttps://t.co/a5eq9...       False   \n",
       "3  Our country does not feel 'great already' to t...       False   \n",
       "4  MAKE AMERICA GREAT AGAIN! https://t.co/qL9rjb7OsD       False   \n",
       "\n",
       "  original_author                 time in_reply_to_screen_name  \\\n",
       "0             NaN  2016-09-27T01:13:45                     NaN   \n",
       "1             NaN  2016-07-12T19:56:48                     NaN   \n",
       "2             NaN  2016-05-14T21:51:50                     NaN   \n",
       "3             NaN  2016-07-28T02:42:13                     NaN   \n",
       "4             NaN  2016-07-21T04:00:25                     NaN   \n",
       "\n",
       "   in_reply_to_status_id  in_reply_to_user_id  is_quote_status  ...  \\\n",
       "0                    NaN                  NaN            False  ...   \n",
       "1                    NaN                  NaN            False  ...   \n",
       "2                    NaN                  NaN            False  ...   \n",
       "3                    NaN                  NaN            False  ...   \n",
       "4                    NaN                  NaN            False  ...   \n",
       "\n",
       "  place_country_code  place_country  place_contained_within  place_attributes  \\\n",
       "0                NaN            NaN                     NaN               NaN   \n",
       "1                NaN            NaN                     NaN               NaN   \n",
       "2                NaN            NaN                     NaN               NaN   \n",
       "3                NaN            NaN                     NaN               NaN   \n",
       "4                 US  United States                      []                {}   \n",
       "\n",
       "                                  place_bounding_box  \\\n",
       "0                                                NaN   \n",
       "1                                                NaN   \n",
       "2                                                NaN   \n",
       "3                                                NaN   \n",
       "4  BoundingBox(type='Polygon', coordinates=[[[-81...   \n",
       "\n",
       "                                     source_url truncated  \\\n",
       "0  https://about.twitter.com/products/tweetdeck      True   \n",
       "1  https://about.twitter.com/products/tweetdeck     False   \n",
       "2                            http://twitter.com     False   \n",
       "3            http://twitter.com/download/iphone     False   \n",
       "4            http://twitter.com/download/iphone     False   \n",
       "\n",
       "                                            entities  \\\n",
       "0  {'user_mentions': [], 'symbols': [], 'urls': [...   \n",
       "1  {'media': [{'display_url': 'pic.twitter.com/dX...   \n",
       "2  {'user_mentions': [], 'symbols': [], 'urls': [...   \n",
       "3  {'user_mentions': [], 'symbols': [], 'urls': [...   \n",
       "4  {'media': [{'display_url': 'pic.twitter.com/qL...   \n",
       "\n",
       "                                   extended_entities           handle  \n",
       "0                                                NaN   HillaryClinton  \n",
       "1  {'media': [{'display_url': 'pic.twitter.com/dX...   HillaryClinton  \n",
       "2                                                NaN   HillaryClinton  \n",
       "3                                                NaN  realDonaldTrump  \n",
       "4  {'media': [{'display_url': 'pic.twitter.com/qL...  realDonaldTrump  \n",
       "\n",
       "[5 rows x 29 columns]"
      ]
     },
     "execution_count": 7,
     "metadata": {},
     "output_type": "execute_result"
    }
   ],
   "source": [
    "train_data.head()"
   ]
  },
  {
   "cell_type": "code",
   "execution_count": 9,
   "metadata": {},
   "outputs": [
    {
     "data": {
      "text/plain": [
       "Index(['Unnamed: 0', 'id', 'text', 'is_retweet', 'original_author', 'time',\n",
       "       'in_reply_to_screen_name', 'in_reply_to_status_id',\n",
       "       'in_reply_to_user_id', 'is_quote_status', 'lang', 'retweet_count',\n",
       "       'favorite_count', 'longitude', 'latitude', 'place_id',\n",
       "       'place_full_name', 'place_name', 'place_type', 'place_country_code',\n",
       "       'place_country', 'place_contained_within', 'place_attributes',\n",
       "       'place_bounding_box', 'source_url', 'truncated', 'entities',\n",
       "       'extended_entities', 'handle'],\n",
       "      dtype='object')"
      ]
     },
     "execution_count": 9,
     "metadata": {},
     "output_type": "execute_result"
    }
   ],
   "source": [
    "train_data.columns"
   ]
  },
  {
   "cell_type": "code",
   "execution_count": 19,
   "metadata": {},
   "outputs": [
    {
     "data": {
      "image/png": "[encoded data removed]",
      "text/plain": [
       "<Figure size 432x288 with 1 Axes>"
      ]
     },
     "metadata": {
      "needs_background": "light"
     },
     "output_type": "display_data"
    }
   ],
   "source": [
    "plt.scatter(train_data['Unnamed: 0'], train_data.handle, alpha=0.01)\n",
    "plt.show()"
   ]
  },
  {
   "cell_type": "code",
   "execution_count": null,
   "metadata": {},
   "outputs": [],
   "source": []
  },
  {
   "cell_type": "code",
   "execution_count": 26,
   "metadata": {},
   "outputs": [
    {
     "data": {
      "text/plain": [
       "((4510,), (4510,))"
      ]
     },
     "execution_count": 26,
     "metadata": {},
     "output_type": "execute_result"
    }
   ],
   "source": [
    "# id does not seem to be helpful\n",
    "train_data.id.unique().shape, train_data.id.shape"
   ]
  },
  {
   "cell_type": "code",
   "execution_count": 106,
   "metadata": {},
   "outputs": [],
   "source": [
    "# trump, hillary\n",
    "tweet_indices = [np.where(train_data.handle == handler)[0] for handler in train_data.handle.unique()]"
   ]
  },
  {
   "cell_type": "code",
   "execution_count": 86,
   "metadata": {},
   "outputs": [],
   "source": [
    "trump_rt, hillary_rt = [np.sum(train_data.is_retweet[handler_tweet_id]) for handler_tweet_id in tweet_indices]"
   ]
  },
  {
   "cell_type": "markdown",
   "metadata": {},
   "source": [
    "Trump vs hillary retweets."
   ]
  },
  {
   "cell_type": "code",
   "execution_count": 87,
   "metadata": {},
   "outputs": [
    {
     "data": {
      "image/png": "[encoded data removed]",
      "text/plain": [
       "<Figure size 432x288 with 1 Axes>"
      ]
     },
     "metadata": {
      "needs_background": "light"
     },
     "output_type": "display_data"
    }
   ],
   "source": [
    "plt.bar(['trump', 'hillary'], [trump_rt, hillary_rt], color='orange')\n",
    "plt.show()"
   ]
  },
  {
   "cell_type": "markdown",
   "metadata": {},
   "source": [
    "Trump vs hillary original_author."
   ]
  },
  {
   "cell_type": "code",
   "execution_count": 195,
   "metadata": {},
   "outputs": [
    {
     "data": {
      "text/plain": [
       "TheBriefing2016    59\n",
       "HFA                38\n",
       "timkaine           33\n",
       "Hillary_esp        15\n",
       "JoeBiden           12\n",
       "EricTrump          11\n",
       "johnpodesta         8\n",
       "BernieSanders       8\n",
       "mayaharris_         8\n",
       "DRUDGE_REPORT       7\n",
       "Name: original_author, dtype: int64"
      ]
     },
     "execution_count": 195,
     "metadata": {},
     "output_type": "execute_result"
    }
   ],
   "source": [
    "train_data.original_author.value_counts()[:10]"
   ]
  },
  {
   "cell_type": "code",
   "execution_count": 196,
   "metadata": {},
   "outputs": [
    {
     "name": "stdout",
     "output_type": "stream",
     "text": [
      "[141, 2] [2014, 2159]\n"
     ]
    }
   ],
   "source": [
    "trump_hillary_orig_aut = tools.count_column_cls(train_data.original_author, tweet_indices)\n",
    "\n",
    "# non values don't make matter\n",
    "print(trump_hillary_rtsnv,\n",
    "tools.count_column_cls(train_data.original_author.fillna('0'), tweet_indices))"
   ]
  },
  {
   "cell_type": "code",
   "execution_count": 197,
   "metadata": {},
   "outputs": [
    {
     "data": {
      "image/png": "[encoded data removed]",
      "text/plain": [
       "<Figure size 432x288 with 1 Axes>"
      ]
     },
     "metadata": {
      "needs_background": "light"
     },
     "output_type": "display_data"
    }
   ],
   "source": [
    "plt.bar(['trump', 'hillary'], [*trump_hillary_orig_aut], color='orange')\n",
    "plt.show()"
   ]
  },
  {
   "cell_type": "markdown",
   "metadata": {},
   "source": [
    "Trump vs hillary in reply to screen name."
   ]
  },
  {
   "cell_type": "code",
   "execution_count": 188,
   "metadata": {},
   "outputs": [
    {
     "data": {
      "text/plain": [
       "0                 4367\n",
       "HillaryClinton     138\n",
       "iamwill              1\n",
       "MELANIATRUMP         1\n",
       "POTUS                1\n",
       "elizabethforma       1\n",
       "Lesdoggg             1\n",
       "Name: in_reply_to_screen_name, dtype: int64"
      ]
     },
     "execution_count": 188,
     "metadata": {},
     "output_type": "execute_result"
    }
   ],
   "source": [
    "train_data.in_reply_to_screen_name.fillna(0).value_counts()"
   ]
  },
  {
   "cell_type": "code",
   "execution_count": 189,
   "metadata": {},
   "outputs": [
    {
     "name": "stdout",
     "output_type": "stream",
     "text": [
      "[141, 2] [2274, 2236]\n"
     ]
    }
   ],
   "source": [
    "trump_hillary_rtsnv = tools.count_column_cls(train_data.in_reply_to_screen_name, tweet_indices)\n",
    "\n",
    "# non values don't make matter\n",
    "print(trump_hillary_rtsnv,\n",
    "tools.count_column_cls(train_data.in_reply_to_screen_name.fillna('0'), tweet_indices))"
   ]
  },
  {
   "cell_type": "code",
   "execution_count": 190,
   "metadata": {},
   "outputs": [
    {
     "data": {
      "image/png": "[encoded data removed]",
      "text/plain": [
       "<Figure size 432x288 with 1 Axes>"
      ]
     },
     "metadata": {
      "needs_background": "light"
     },
     "output_type": "display_data"
    }
   ],
   "source": [
    "plt.bar(['trump', 'hillary'], [*trump_hillary_rtsnv], color='orange')\n",
    "plt.show()"
   ]
  },
  {
   "cell_type": "code",
   "execution_count": 201,
   "metadata": {
    "scrolled": true
   },
   "outputs": [
    {
     "data": {
      "text/plain": [
       "1.339836e+09    138\n",
       "1.536792e+09      1\n",
       "4.957386e+07      1\n",
       "1.084716e+08      1\n",
       "3.576069e+08      1\n",
       "4.721680e+07      1\n",
       "Name: in_reply_to_user_id, dtype: int64"
      ]
     },
     "execution_count": 201,
     "metadata": {},
     "output_type": "execute_result"
    }
   ],
   "source": [
    "train_data.in_reply_to_user_id.value_counts()"
   ]
  },
  {
   "cell_type": "code",
   "execution_count": null,
   "metadata": {},
   "outputs": [],
   "source": []
  }
 ],
 "metadata": {
  "kernelspec": {
   "display_name": "Python 3",
   "language": "python",
   "name": "python3"
  },
  "language_info": {
   "codemirror_mode": {
    "name": "ipython",
    "version": 3
   },
   "file_extension": ".py",
   "mimetype": "text/x-python",
   "name": "python",
   "nbconvert_exporter": "python",
   "pygments_lexer": "ipython3",
   "version": "3.7.3"
  }
 },
 "nbformat": 4,
 "nbformat_minor": 2
}
