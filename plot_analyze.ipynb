{
 "cells": [
  {
   "cell_type": "code",
   "execution_count": 139,
   "metadata": {},
   "outputs": [],
   "source": [
    "import numpy as np\n",
    "import pandas as pd\n",
    "import matplotlib.pyplot as plt\n",
    "plt.rcParams[\"figure.figsize\"] = 7, 4\n",
    "\n",
    "from importlib import reload\n",
    "from collections import Counter\n",
    "\n",
    "import plotting\n",
    "import toolbox as tb\n",
    "import feature_creation\n",
    "\n",
    "# reload modules\n",
    "tb = reload(tb)\n",
    "plotting = reload(plotting)\n",
    "feature_creation = reload(feature_creation)\n",
    "\n",
    "from plotting import Plotter\n",
    "\n",
    "from feature_creation import YNormal, featurize, my_get_dummies\n",
    "\n",
    "# ignore warnings\n",
    "import warnings\n",
    "warnings.filterwarnings(action=\"ignore\")"
   ]
  },
  {
   "cell_type": "markdown",
   "metadata": {},
   "source": [
    "Load data."
   ]
  },
  {
   "cell_type": "code",
   "execution_count": 140,
   "metadata": {},
   "outputs": [
    {
     "data": {
      "text/plain": [
       "((2250, 24), (750, 24), (4398, 22))"
      ]
     },
     "execution_count": 140,
     "metadata": {},
     "output_type": "execute_result"
    }
   ],
   "source": [
    "train_data = pd.read_csv('dataset/train.csv')\n",
    "validation = pd.read_csv('dataset/validation.csv')\n",
    "test_data = pd.read_csv('dataset/test.csv')\n",
    "\n",
    "train_data.shape, validation.shape, test_data.shape"
   ]
  },
  {
   "cell_type": "code",
   "execution_count": 141,
   "metadata": {},
   "outputs": [
    {
     "data": {
      "text/html": [
       "<div>\n",
       "<style scoped>\n",
       "    .dataframe tbody tr th:only-of-type {\n",
       "        vertical-align: middle;\n",
       "    }\n",
       "\n",
       "    .dataframe tbody tr th {\n",
       "        vertical-align: top;\n",
       "    }\n",
       "\n",
       "    .dataframe thead th {\n",
       "        text-align: right;\n",
       "    }\n",
       "</style>\n",
       "<table border=\"1\" class=\"dataframe\">\n",
       "  <thead>\n",
       "    <tr style=\"text-align: right;\">\n",
       "      <th></th>\n",
       "      <th>Unnamed: 0</th>\n",
       "      <th>id</th>\n",
       "      <th>belongs_to_collection</th>\n",
       "      <th>budget</th>\n",
       "      <th>genres</th>\n",
       "      <th>homepage</th>\n",
       "      <th>imdb_id</th>\n",
       "      <th>original_language</th>\n",
       "      <th>original_title</th>\n",
       "      <th>overview</th>\n",
       "      <th>...</th>\n",
       "      <th>release_date</th>\n",
       "      <th>runtime</th>\n",
       "      <th>spoken_languages</th>\n",
       "      <th>status</th>\n",
       "      <th>tagline</th>\n",
       "      <th>title</th>\n",
       "      <th>Keywords</th>\n",
       "      <th>cast</th>\n",
       "      <th>crew</th>\n",
       "      <th>revenue</th>\n",
       "    </tr>\n",
       "  </thead>\n",
       "  <tbody>\n",
       "    <tr>\n",
       "      <th>0</th>\n",
       "      <td>750</td>\n",
       "      <td>751</td>\n",
       "      <td>NaN</td>\n",
       "      <td>30000000</td>\n",
       "      <td>[{'id': 35, 'name': 'Comedy'}, {'id': 18, 'nam...</td>\n",
       "      <td>NaN</td>\n",
       "      <td>tt0332047</td>\n",
       "      <td>en</td>\n",
       "      <td>Fever Pitch</td>\n",
       "      <td>When relaxed and charming Ben Wrightman meets ...</td>\n",
       "      <td>...</td>\n",
       "      <td>4/6/05</td>\n",
       "      <td>103.0</td>\n",
       "      <td>[{'iso_639_1': 'en', 'name': 'English'}, {'iso...</td>\n",
       "      <td>Released</td>\n",
       "      <td>A Comedy About The Game of Love.</td>\n",
       "      <td>Fever Pitch</td>\n",
       "      <td>[{'id': 1480, 'name': 'baseball'}, {'id': 3419...</td>\n",
       "      <td>[{'cast_id': 1, 'character': 'Lindsey Meeks', ...</td>\n",
       "      <td>[{'credit_id': '52fe443f9251416c7502df99', 'de...</td>\n",
       "      <td>50451307</td>\n",
       "    </tr>\n",
       "    <tr>\n",
       "      <th>1</th>\n",
       "      <td>751</td>\n",
       "      <td>752</td>\n",
       "      <td>[{'id': 5039, 'name': 'Rambo Collection', 'pos...</td>\n",
       "      <td>50000000</td>\n",
       "      <td>[{'id': 28, 'name': 'Action'}, {'id': 53, 'nam...</td>\n",
       "      <td>http://www.rambofilm.com/</td>\n",
       "      <td>tt0462499</td>\n",
       "      <td>en</td>\n",
       "      <td>Rambo</td>\n",
       "      <td>When governments fail to act on behalf of capt...</td>\n",
       "      <td>...</td>\n",
       "      <td>1/24/08</td>\n",
       "      <td>92.0</td>\n",
       "      <td>[{'iso_639_1': 'en', 'name': 'English'}, {'iso...</td>\n",
       "      <td>Released</td>\n",
       "      <td>Heroes never die... They just reload.</td>\n",
       "      <td>Rambo</td>\n",
       "      <td>[{'id': 440, 'name': 'missionary'}, {'id': 126...</td>\n",
       "      <td>[{'cast_id': 12, 'character': 'John Rambo', 'c...</td>\n",
       "      <td>[{'credit_id': '55c8e0ff92514177c9000085', 'de...</td>\n",
       "      <td>113244290</td>\n",
       "    </tr>\n",
       "    <tr>\n",
       "      <th>2</th>\n",
       "      <td>752</td>\n",
       "      <td>753</td>\n",
       "      <td>NaN</td>\n",
       "      <td>0</td>\n",
       "      <td>[{'id': 35, 'name': 'Comedy'}, {'id': 99, 'nam...</td>\n",
       "      <td>NaN</td>\n",
       "      <td>tt0175844</td>\n",
       "      <td>en</td>\n",
       "      <td>Lenny Bruce: Swear to Tell the Truth</td>\n",
       "      <td>In 1948, Lenny Bruce was just another comic wh...</td>\n",
       "      <td>...</td>\n",
       "      <td>10/21/98</td>\n",
       "      <td>100.0</td>\n",
       "      <td>[{'iso_639_1': 'en', 'name': 'English'}]</td>\n",
       "      <td>Released</td>\n",
       "      <td>A documentary about the comic who invented con...</td>\n",
       "      <td>Lenny Bruce: Swear to Tell the Truth</td>\n",
       "      <td>[{'id': 3485, 'name': 'comedian'}, {'id': 5565...</td>\n",
       "      <td>[{'cast_id': 1, 'character': 'Himself / Narrat...</td>\n",
       "      <td>[{'credit_id': '52fe4a19c3a36847f81b92ff', 'de...</td>\n",
       "      <td>21350</td>\n",
       "    </tr>\n",
       "    <tr>\n",
       "      <th>3</th>\n",
       "      <td>753</td>\n",
       "      <td>754</td>\n",
       "      <td>[{'id': 59586, 'name': 'The Blue Lagoon collec...</td>\n",
       "      <td>4500000</td>\n",
       "      <td>[{'id': 10749, 'name': 'Romance'}, {'id': 12, ...</td>\n",
       "      <td>NaN</td>\n",
       "      <td>tt0080453</td>\n",
       "      <td>en</td>\n",
       "      <td>The Blue Lagoon</td>\n",
       "      <td>Two small children and a ship's cook survive a...</td>\n",
       "      <td>...</td>\n",
       "      <td>7/5/80</td>\n",
       "      <td>104.0</td>\n",
       "      <td>[{'iso_639_1': 'en', 'name': 'English'}]</td>\n",
       "      <td>Released</td>\n",
       "      <td>A sensuous story of natural love.</td>\n",
       "      <td>The Blue Lagoon</td>\n",
       "      <td>[{'id': 566, 'name': 'sexual identity'}, {'id'...</td>\n",
       "      <td>[{'cast_id': 7, 'character': 'Emmeline', 'cred...</td>\n",
       "      <td>[{'credit_id': '52fe4418c3a36847f8081fa3', 'de...</td>\n",
       "      <td>58853106</td>\n",
       "    </tr>\n",
       "    <tr>\n",
       "      <th>4</th>\n",
       "      <td>754</td>\n",
       "      <td>755</td>\n",
       "      <td>NaN</td>\n",
       "      <td>6000000</td>\n",
       "      <td>[{'id': 18, 'name': 'Drama'}, {'id': 10749, 'n...</td>\n",
       "      <td>http://www.paramountvantage.com/virginsuicides...</td>\n",
       "      <td>tt0159097</td>\n",
       "      <td>en</td>\n",
       "      <td>The Virgin Suicides</td>\n",
       "      <td>A group of male friends become obsessed with f...</td>\n",
       "      <td>...</td>\n",
       "      <td>4/21/99</td>\n",
       "      <td>97.0</td>\n",
       "      <td>[{'iso_639_1': 'en', 'name': 'English'}]</td>\n",
       "      <td>Released</td>\n",
       "      <td>Beautiful, mysterious, haunting, invariably fa...</td>\n",
       "      <td>The Virgin Suicides</td>\n",
       "      <td>[{'id': 933, 'name': 'michigan'}, {'id': 1228,...</td>\n",
       "      <td>[{'cast_id': 17, 'character': 'Mr. Lisbon', 'c...</td>\n",
       "      <td>[{'credit_id': '52fe42f8c3a36847f80308d5', 'de...</td>\n",
       "      <td>10409377</td>\n",
       "    </tr>\n",
       "  </tbody>\n",
       "</table>\n",
       "<p>5 rows × 24 columns</p>\n",
       "</div>"
      ],
      "text/plain": [
       "   Unnamed: 0   id                              belongs_to_collection  \\\n",
       "0         750  751                                                NaN   \n",
       "1         751  752  [{'id': 5039, 'name': 'Rambo Collection', 'pos...   \n",
       "2         752  753                                                NaN   \n",
       "3         753  754  [{'id': 59586, 'name': 'The Blue Lagoon collec...   \n",
       "4         754  755                                                NaN   \n",
       "\n",
       "     budget                                             genres  \\\n",
       "0  30000000  [{'id': 35, 'name': 'Comedy'}, {'id': 18, 'nam...   \n",
       "1  50000000  [{'id': 28, 'name': 'Action'}, {'id': 53, 'nam...   \n",
       "2         0  [{'id': 35, 'name': 'Comedy'}, {'id': 99, 'nam...   \n",
       "3   4500000  [{'id': 10749, 'name': 'Romance'}, {'id': 12, ...   \n",
       "4   6000000  [{'id': 18, 'name': 'Drama'}, {'id': 10749, 'n...   \n",
       "\n",
       "                                            homepage    imdb_id  \\\n",
       "0                                                NaN  tt0332047   \n",
       "1                          http://www.rambofilm.com/  tt0462499   \n",
       "2                                                NaN  tt0175844   \n",
       "3                                                NaN  tt0080453   \n",
       "4  http://www.paramountvantage.com/virginsuicides...  tt0159097   \n",
       "\n",
       "  original_language                        original_title  \\\n",
       "0                en                           Fever Pitch   \n",
       "1                en                                 Rambo   \n",
       "2                en  Lenny Bruce: Swear to Tell the Truth   \n",
       "3                en                       The Blue Lagoon   \n",
       "4                en                   The Virgin Suicides   \n",
       "\n",
       "                                            overview  ...  release_date  \\\n",
       "0  When relaxed and charming Ben Wrightman meets ...  ...        4/6/05   \n",
       "1  When governments fail to act on behalf of capt...  ...       1/24/08   \n",
       "2  In 1948, Lenny Bruce was just another comic wh...  ...      10/21/98   \n",
       "3  Two small children and a ship's cook survive a...  ...        7/5/80   \n",
       "4  A group of male friends become obsessed with f...  ...       4/21/99   \n",
       "\n",
       "  runtime                                   spoken_languages    status  \\\n",
       "0   103.0  [{'iso_639_1': 'en', 'name': 'English'}, {'iso...  Released   \n",
       "1    92.0  [{'iso_639_1': 'en', 'name': 'English'}, {'iso...  Released   \n",
       "2   100.0           [{'iso_639_1': 'en', 'name': 'English'}]  Released   \n",
       "3   104.0           [{'iso_639_1': 'en', 'name': 'English'}]  Released   \n",
       "4    97.0           [{'iso_639_1': 'en', 'name': 'English'}]  Released   \n",
       "\n",
       "                                             tagline  \\\n",
       "0                   A Comedy About The Game of Love.   \n",
       "1              Heroes never die... They just reload.   \n",
       "2  A documentary about the comic who invented con...   \n",
       "3                  A sensuous story of natural love.   \n",
       "4  Beautiful, mysterious, haunting, invariably fa...   \n",
       "\n",
       "                                  title  \\\n",
       "0                           Fever Pitch   \n",
       "1                                 Rambo   \n",
       "2  Lenny Bruce: Swear to Tell the Truth   \n",
       "3                       The Blue Lagoon   \n",
       "4                   The Virgin Suicides   \n",
       "\n",
       "                                            Keywords  \\\n",
       "0  [{'id': 1480, 'name': 'baseball'}, {'id': 3419...   \n",
       "1  [{'id': 440, 'name': 'missionary'}, {'id': 126...   \n",
       "2  [{'id': 3485, 'name': 'comedian'}, {'id': 5565...   \n",
       "3  [{'id': 566, 'name': 'sexual identity'}, {'id'...   \n",
       "4  [{'id': 933, 'name': 'michigan'}, {'id': 1228,...   \n",
       "\n",
       "                                                cast  \\\n",
       "0  [{'cast_id': 1, 'character': 'Lindsey Meeks', ...   \n",
       "1  [{'cast_id': 12, 'character': 'John Rambo', 'c...   \n",
       "2  [{'cast_id': 1, 'character': 'Himself / Narrat...   \n",
       "3  [{'cast_id': 7, 'character': 'Emmeline', 'cred...   \n",
       "4  [{'cast_id': 17, 'character': 'Mr. Lisbon', 'c...   \n",
       "\n",
       "                                                crew    revenue  \n",
       "0  [{'credit_id': '52fe443f9251416c7502df99', 'de...   50451307  \n",
       "1  [{'credit_id': '55c8e0ff92514177c9000085', 'de...  113244290  \n",
       "2  [{'credit_id': '52fe4a19c3a36847f81b92ff', 'de...      21350  \n",
       "3  [{'credit_id': '52fe4418c3a36847f8081fa3', 'de...   58853106  \n",
       "4  [{'credit_id': '52fe42f8c3a36847f80308d5', 'de...   10409377  \n",
       "\n",
       "[5 rows x 24 columns]"
      ]
     },
     "execution_count": 141,
     "metadata": {},
     "output_type": "execute_result"
    }
   ],
   "source": [
    "train_data.head()"
   ]
  },
  {
   "cell_type": "code",
   "execution_count": 142,
   "metadata": {},
   "outputs": [
    {
     "data": {
      "text/plain": [
       "Index(['Unnamed: 0', 'id', 'belongs_to_collection', 'budget', 'genres',\n",
       "       'homepage', 'imdb_id', 'original_language', 'original_title',\n",
       "       'overview', 'popularity', 'poster_path', 'production_companies',\n",
       "       'production_countries', 'release_date', 'runtime', 'spoken_languages',\n",
       "       'status', 'tagline', 'title', 'Keywords', 'cast', 'crew', 'revenue'],\n",
       "      dtype='object')"
      ]
     },
     "execution_count": 142,
     "metadata": {},
     "output_type": "execute_result"
    }
   ],
   "source": [
    "train_data.columns"
   ]
  },
  {
   "cell_type": "markdown",
   "metadata": {},
   "source": [
    "Make a copy of *train_data* and *test_data* for not modifing them."
   ]
  },
  {
   "cell_type": "code",
   "execution_count": 143,
   "metadata": {},
   "outputs": [
    {
     "data": {
      "text/plain": [
       "False"
      ]
     },
     "execution_count": 143,
     "metadata": {},
     "output_type": "execute_result"
    }
   ],
   "source": [
    "train_df = train_data.copy()\n",
    "test_df = test_data.copy()\n",
    "\n",
    "# checking the ids\n",
    "np.any((id(train_df) == id(train_data)) and (id(test_df) == id(test_data)))"
   ]
  },
  {
   "cell_type": "code",
   "execution_count": 144,
   "metadata": {},
   "outputs": [],
   "source": [
    "plotter = Plotter(colors=['red', 'blue', 'green', 'orange'])"
   ]
  },
  {
   "cell_type": "code",
   "execution_count": 145,
   "metadata": {
    "scrolled": false
   },
   "outputs": [
    {
     "data": {
      "image/png": "[encoded data removed]",
      "text/plain": [
       "<Figure size 504x288 with 1 Axes>"
      ]
     },
     "metadata": {
      "needs_background": "light"
     },
     "output_type": "display_data"
    },
    {
     "data": {
      "image/png": "[encoded data removed]",
      "text/plain": [
       "<Figure size 504x288 with 1 Axes>"
      ]
     },
     "metadata": {
      "needs_background": "light"
     },
     "output_type": "display_data"
    }
   ],
   "source": [
    "plt.scatter(train_df['budget'], train_df['revenue'], color='orange')\n",
    "plt.show()\n",
    "plt.scatter(np.log(train_df['budget'].fillna(0)), np.log(train_df['revenue'].fillna(0)), color='orange')\n",
    "plt.show()"
   ]
  },
  {
   "cell_type": "code",
   "execution_count": 146,
   "metadata": {},
   "outputs": [
    {
     "data": {
      "text/plain": [
       "[('15', 10358282578),\n",
       " ('12', 9601960200),\n",
       " ('11', 8141855434),\n",
       " ('13', 8123090217),\n",
       " ('14', 7366063155),\n",
       " ('10', 7162874268),\n",
       " ('08', 7120057657),\n",
       " ('09', 6424480681),\n",
       " ('16', 6364018980),\n",
       " ('07', 6090500321)]"
      ]
     },
     "execution_count": 146,
     "metadata": {},
     "output_type": "execute_result"
    }
   ],
   "source": [
    "years = np.array([date[-2:] for date in train_data.release_date.values])\n",
    "unique_years, years_counts = np.unique(years, return_counts=True)\n",
    "\n",
    "years_, sums = np.array(list(tb.get_unique_values(years, train_df.revenue, oper=np.mean))).T\n",
    "\n",
    "sorted(list(tb.get_unique_values(years, train_df.revenue, oper=np.mean)), key=lambda x: x[1], reverse=True)[:10]"
   ]
  },
  {
   "cell_type": "code",
   "execution_count": 147,
   "metadata": {},
   "outputs": [
    {
     "data": {
      "text/plain": [
       "array(['13', '15', '10', '11', '14', '16', '12', '06', '08', '07', '09',\n",
       "       '05', '02', '04', '01', '03', '00', '98', '99', '97', '96', '95',\n",
       "       '89', '93', '88', '87', '94', '85', '90', '91', '86', '92', '17',\n",
       "       '84', '83', '81', '80', '82', '79', '78', '73', '72', '77', '71',\n",
       "       '64', '70', '75', '48', '55', '60', '74', '66', '67', '63', '53',\n",
       "       '76', '39', '68', '45', '59', '36', '42', '51', '69', '61', '62',\n",
       "       '54', '58', '57', '43', '50', '25', '65', '27', '28', '32', '47',\n",
       "       '31', '49', '56', '21', '26', '30', '33', '35', '38', '40', '44',\n",
       "       '24'], dtype='<U2')"
      ]
     },
     "execution_count": 147,
     "metadata": {},
     "output_type": "execute_result"
    }
   ],
   "source": [
    "unique_years[np.argsort(years_counts)[::-1]]"
   ]
  },
  {
   "cell_type": "code",
   "execution_count": 148,
   "metadata": {},
   "outputs": [],
   "source": [
    "full_years = np.array([f'20{year[-2:]}' if year[-2:].startswith('0') else f'19{year[-2:]}'\n",
    "                       for year in years_], dtype=np.int)"
   ]
  },
  {
   "cell_type": "code",
   "execution_count": 149,
   "metadata": {},
   "outputs": [
    {
     "data": {
      "image/png": "[encoded data removed]",
      "text/plain": [
       "<Figure size 504x288 with 1 Axes>"
      ]
     },
     "metadata": {
      "needs_background": "light"
     },
     "output_type": "display_data"
    }
   ],
   "source": [
    "plt.bar(full_years, years_counts)\n",
    "plt.show()"
   ]
  },
  {
   "cell_type": "code",
   "execution_count": 150,
   "metadata": {},
   "outputs": [
    {
     "data": {
      "image/png": "[encoded data removed]",
      "text/plain": [
       "<Figure size 504x288 with 1 Axes>"
      ]
     },
     "metadata": {
      "needs_background": "light"
     },
     "output_type": "display_data"
    }
   ],
   "source": [
    "plt.bar(full_years, sums.astype(np.int))\n",
    "plt.show()"
   ]
  },
  {
   "cell_type": "code",
   "execution_count": 151,
   "metadata": {},
   "outputs": [
    {
     "data": {
      "text/plain": [
       "\"[{'name': 'Fox 2000 Pictures', 'id': 711}, {'name': 'Wildgaze Films', 'id': 1508}, {'name': 'Alan Greenspan Productions', 'id': 6401}, {'name': 'Mars Media Beteiligungs', 'id': 6402}, {'name': 'Flower Films (II)', 'id': 19813}, {'name': 'ELC Productions Ltd.', 'id': 73953}]\""
      ]
     },
     "execution_count": 151,
     "metadata": {},
     "output_type": "execute_result"
    }
   ],
   "source": [
    "train_df.production_companies.iloc[0]"
   ]
  },
  {
   "cell_type": "code",
   "execution_count": 152,
   "metadata": {},
   "outputs": [
    {
     "data": {
      "text/plain": [
       "[('Warner Bros.', 19216337649),\n",
       " ('Paramount Pictures', 16072796429),\n",
       " ('Universal Pictures', 15867755667),\n",
       " ('Walt Disney Pictures', 13414908437),\n",
       " ('Twentieth Century Fox Film Corporation', 11836503410),\n",
       " ('Columbia Pictures', 9224099662),\n",
       " ('New Line Cinema', 6530786092),\n",
       " ('Legendary Pictures', 5521570363),\n",
       " ('Marvel Studios', 5292772946),\n",
       " ('Revolution Sun Studios', 5243755063)]"
      ]
     },
     "execution_count": 152,
     "metadata": {},
     "output_type": "execute_result"
    }
   ],
   "source": [
    "json_prod_com = tb.json_to_dict(train_df.production_companies.fillna(''))\n",
    "tb.get_json_features(json_prod_com, 'name', train_df.revenue)[:10]"
   ]
  },
  {
   "cell_type": "code",
   "execution_count": 153,
   "metadata": {},
   "outputs": [
    {
     "data": {
      "text/plain": [
       "[('Warner Bros.', 149),\n",
       " ('Universal Pictures', 139),\n",
       " ('Paramount Pictures', 121),\n",
       " ('Twentieth Century Fox Film Corporation', 107),\n",
       " ('Columbia Pictures', 73),\n",
       " ('Metro-Goldwyn-Mayer (MGM)', 64),\n",
       " ('New Line Cinema', 56),\n",
       " ('Walt Disney Pictures', 47),\n",
       " ('Columbia Pictures Corporation', 46),\n",
       " ('Relativity Media', 40)]"
      ]
     },
     "execution_count": 153,
     "metadata": {},
     "output_type": "execute_result"
    }
   ],
   "source": [
    "company_names = [dict['name'] for dicts in json_prod_com for dict in dicts]\n",
    "Counter(company_names).most_common()[:10]"
   ]
  },
  {
   "cell_type": "code",
   "execution_count": 154,
   "metadata": {},
   "outputs": [
    {
     "data": {
      "text/plain": [
       "\"[{'name': 'Fox 2000 Pictures', 'id': 711}, {'name': 'Wildgaze Films', 'id': 1508}, {'name': 'Alan Greenspan Productions', 'id': 6401}, {'name': 'Mars Media Beteiligungs', 'id': 6402}, {'name': 'Flower Films (II)', 'id': 19813}, {'name': 'ELC Productions Ltd.', 'id': 73953}]\""
      ]
     },
     "execution_count": 154,
     "metadata": {},
     "output_type": "execute_result"
    }
   ],
   "source": [
    "train_df['production_companies'].iloc[0]"
   ]
  },
  {
   "cell_type": "code",
   "execution_count": 155,
   "metadata": {},
   "outputs": [
    {
     "data": {
      "text/plain": [
       "[('United States of America', 140616778685),\n",
       " ('United Kingdom', 21828233674),\n",
       " ('Germany', 8068229931),\n",
       " ('Canada', 7692172643),\n",
       " ('France', 5255328343),\n",
       " ('China', 3135772041),\n",
       " ('Australia', 2685650159),\n",
       " ('Japan', 2593708596),\n",
       " ('New Zealand', 2389570648),\n",
       " ('Hong Kong', 2079695185)]"
      ]
     },
     "execution_count": 155,
     "metadata": {},
     "output_type": "execute_result"
    }
   ],
   "source": [
    "json_prod_count = tb.json_to_dict(train_df.production_countries.fillna(''))\n",
    "tb.get_json_features(json_prod_count, 'name', train_df.revenue)[:10]"
   ]
  },
  {
   "cell_type": "code",
   "execution_count": 156,
   "metadata": {},
   "outputs": [
    {
     "data": {
      "text/plain": [
       "[('Warner Bros.', 149),\n",
       " ('Universal Pictures', 139),\n",
       " ('Paramount Pictures', 121),\n",
       " ('Twentieth Century Fox Film Corporation', 107),\n",
       " ('Columbia Pictures', 73),\n",
       " ('Metro-Goldwyn-Mayer (MGM)', 64),\n",
       " ('New Line Cinema', 56),\n",
       " ('Walt Disney Pictures', 47),\n",
       " ('Columbia Pictures Corporation', 46),\n",
       " ('Relativity Media', 40)]"
      ]
     },
     "execution_count": 156,
     "metadata": {},
     "output_type": "execute_result"
    }
   ],
   "source": [
    "country_names = [dict['name'] for dicts in json_prod_com for dict in dicts]\n",
    "Counter(country_names).most_common()[:10]"
   ]
  },
  {
   "cell_type": "code",
   "execution_count": 157,
   "metadata": {},
   "outputs": [
    {
     "data": {
      "text/plain": [
       "\"[{'cast_id': 1, 'character': 'Lindsey Meeks', 'credit_id': '52fe443f9251416c7502df43', 'gender': 1, 'id': 69597, 'name': 'Drew Barrymore', 'order': 0, 'profile_path': '/y8GKPHsBXVGIGBdDzdNxjm0IbKF.jpg'}\""
      ]
     },
     "execution_count": 157,
     "metadata": {},
     "output_type": "execute_result"
    }
   ],
   "source": [
    "train_df.cast.iloc[0][:202]"
   ]
  },
  {
   "cell_type": "code",
   "execution_count": 158,
   "metadata": {},
   "outputs": [
    {
     "data": {
      "text/plain": [
       "[('Robert De Niro', 26),\n",
       " ('Samuel L. Jackson', 26),\n",
       " ('Morgan Freeman', 23),\n",
       " ('Willem Dafoe', 20),\n",
       " ('John Goodman', 20),\n",
       " ('Bruce Willis', 19),\n",
       " ('Robert Duvall', 18),\n",
       " ('Liam Neeson', 18),\n",
       " ('Forest Whitaker', 18),\n",
       " ('Susan Sarandon', 17)]"
      ]
     },
     "execution_count": 158,
     "metadata": {},
     "output_type": "execute_result"
    }
   ],
   "source": [
    "all_actors = [dict['name'] for dicts in tb.json_to_dict(train_df.cast.fillna('')) for dict in dicts]\n",
    "Counter(all_actors).most_common(10)"
   ]
  },
  {
   "cell_type": "code",
   "execution_count": 159,
   "metadata": {},
   "outputs": [
    {
     "data": {
      "text/plain": [
       "[('Samuel L. Jackson', 7316018488),\n",
       " ('Stan Lee', 6518945480),\n",
       " ('Frank Welker', 4982007905),\n",
       " ('Jeremy Renner', 4643068839),\n",
       " ('Johnny Depp', 4586705934),\n",
       " ('Tyrese Gibson', 4410059212),\n",
       " ('Judi Dench', 4317926509),\n",
       " ('Stellan Skarsg√•rd', 4149023692),\n",
       " ('John Turturro', 4140831341),\n",
       " ('Shia LaBeouf', 4090590413)]"
      ]
     },
     "execution_count": 159,
     "metadata": {},
     "output_type": "execute_result"
    }
   ],
   "source": [
    "cast_json = tb.json_to_dict(train_df.cast.fillna(''))\n",
    "tb.get_json_features(cast_json, 'name', train_df.revenue)[:10]"
   ]
  },
  {
   "cell_type": "code",
   "execution_count": 160,
   "metadata": {},
   "outputs": [
    {
     "data": {
      "text/plain": [
       "\"[{'credit_id': '52fe443f9251416c7502df99', 'department': 'Production', 'gender': 1, 'id': 1588, 'job': 'Producer', 'name': 'Nancy Juvonen', 'profile_path': None}\""
      ]
     },
     "execution_count": 160,
     "metadata": {},
     "output_type": "execute_result"
    }
   ],
   "source": [
    "train_df.crew.iloc[0][:161]"
   ]
  },
  {
   "cell_type": "code",
   "execution_count": 161,
   "metadata": {},
   "outputs": [
    {
     "data": {
      "text/plain": [
       "[('Christopher Boyes', 13147223385),\n",
       " ('Stan Lee', 9758137257),\n",
       " ('Steven Spielberg', 9659724469),\n",
       " ('Joss Whedon', 8127843510),\n",
       " ('Michael Bay', 8069348053),\n",
       " ('Sarah Finn', 7880046929),\n",
       " ('Luca Marco Paracels', 7669512295),\n",
       " ('Brian N. Bentley', 7443764112),\n",
       " ('Hans Zimmer', 6711791961),\n",
       " ('James Newton Howard', 6550868848)]"
      ]
     },
     "execution_count": 161,
     "metadata": {},
     "output_type": "execute_result"
    }
   ],
   "source": [
    "cast_json = tb.json_to_dict(train_df.crew.fillna(''))\n",
    "tb.get_json_features(cast_json, 'name', train_df.revenue)[:10]"
   ]
  },
  {
   "cell_type": "code",
   "execution_count": 162,
   "metadata": {},
   "outputs": [
    {
     "data": {
      "text/plain": [
       "[('Avy Kaufman', 38),\n",
       " ('Steven Spielberg', 33),\n",
       " ('Luc Besson', 31),\n",
       " ('Deborah Aquila', 30),\n",
       " ('James Newton Howard', 29),\n",
       " ('James Horner', 28),\n",
       " ('Tricia Wood', 27),\n",
       " ('Francine Maisler', 26),\n",
       " ('Jerry Goldsmith', 26),\n",
       " ('Kerry Barden', 26)]"
      ]
     },
     "execution_count": 162,
     "metadata": {},
     "output_type": "execute_result"
    }
   ],
   "source": [
    "all_crew_members = [dict['name'] for dicts in tb.json_to_dict(train_df.crew.fillna('')) for dict in dicts]\n",
    "Counter(all_crew_members).most_common(10)"
   ]
  },
  {
   "cell_type": "code",
   "execution_count": 163,
   "metadata": {},
   "outputs": [
    {
     "data": {
      "text/plain": [
       "<matplotlib.collections.PathCollection at 0x7f81464dcbe0>"
      ]
     },
     "execution_count": 163,
     "metadata": {},
     "output_type": "execute_result"
    },
    {
     "data": {
      "image/png": "[encoded data removed]",
      "text/plain": [
       "<Figure size 504x288 with 1 Axes>"
      ]
     },
     "metadata": {
      "needs_background": "light"
     },
     "output_type": "display_data"
    }
   ],
   "source": [
    "plt.scatter(train_df.status, train_df.revenue)"
   ]
  },
  {
   "cell_type": "markdown",
   "metadata": {},
   "source": [
    "The bigger crew the higher revenue."
   ]
  },
  {
   "cell_type": "code",
   "execution_count": 164,
   "metadata": {},
   "outputs": [
    {
     "data": {
      "image/png": "[encoded data removed]",
      "text/plain": [
       "<Figure size 504x288 with 1 Axes>"
      ]
     },
     "metadata": {
      "needs_background": "light"
     },
     "output_type": "display_data"
    },
    {
     "data": {
      "image/png": "[encoded data removed]",
      "text/plain": [
       "<Figure size 504x288 with 1 Axes>"
      ]
     },
     "metadata": {
      "needs_background": "light"
     },
     "output_type": "display_data"
    }
   ],
   "source": [
    "crew_count = train_df.crew.fillna('').apply(lambda x: len(x) if x != dict() else 0)\n",
    "\n",
    "plt.scatter(crew_count, train_df.revenue)\n",
    "plt.show()\n",
    "\n",
    "plt.scatter(np.log1p(crew_count), np.log1p(train_df.revenue))\n",
    "plt.show()"
   ]
  },
  {
   "cell_type": "code",
   "execution_count": 166,
   "metadata": {},
   "outputs": [
    {
     "data": {
      "image/png": "[encoded data removed]",
      "text/plain": [
       "<Figure size 504x288 with 1 Axes>"
      ]
     },
     "metadata": {
      "needs_background": "light"
     },
     "output_type": "display_data"
    },
    {
     "data": {
      "image/png": "[encoded data removed]",
      "text/plain": [
       "<Figure size 504x288 with 1 Axes>"
      ]
     },
     "metadata": {
      "needs_background": "light"
     },
     "output_type": "display_data"
    }
   ],
   "source": [
    "cast_count = train_df.cast.fillna('').apply(lambda x: len(x) if x != dict() else 0)\n",
    "\n",
    "plt.scatter(cast_count, train_df.revenue)\n",
    "plt.show()\n",
    "\n",
    "plt.scatter(np.log2(cast_count), np.log2(train_df.revenue))\n",
    "plt.show()"
   ]
  },
  {
   "cell_type": "code",
   "execution_count": 169,
   "metadata": {},
   "outputs": [
    {
     "data": {
      "image/png": "[encoded data removed]",
      "text/plain": [
       "<Figure size 504x288 with 1 Axes>"
      ]
     },
     "metadata": {
      "needs_background": "light"
     },
     "output_type": "display_data"
    },
    {
     "data": {
      "image/png": "[encoded data removed]",
      "text/plain": [
       "<Figure size 504x288 with 1 Axes>"
      ]
     },
     "metadata": {
      "needs_background": "light"
     },
     "output_type": "display_data"
    }
   ],
   "source": [
    "genres_count = train_df.genres.fillna('').apply(lambda x: len(x) if x != dict() else 0)\n",
    "\n",
    "plt.scatter(genres_count, train_df.revenue)\n",
    "plt.show()\n",
    "\n",
    "plt.scatter(np.log1p(genres_count), np.log1p(train_df.revenue))\n",
    "plt.show()"
   ]
  }
 ],
 "metadata": {
  "kernelspec": {
   "display_name": "Python 3",
   "language": "python",
   "name": "python3"
  },
  "language_info": {
   "codemirror_mode": {
    "name": "ipython",
    "version": 3
   },
   "file_extension": ".py",
   "mimetype": "text/x-python",
   "name": "python",
   "nbconvert_exporter": "python",
   "pygments_lexer": "ipython3",
   "version": "3.7.3"
  }
 },
 "nbformat": 4,
 "nbformat_minor": 2
}
